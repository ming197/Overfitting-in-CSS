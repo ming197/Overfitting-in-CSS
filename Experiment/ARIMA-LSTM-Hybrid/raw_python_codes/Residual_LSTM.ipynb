{
 "metadata": {
  "language_info": {
   "codemirror_mode": {
    "name": "ipython",
    "version": 3
   },
   "file_extension": ".py",
   "mimetype": "text/x-python",
   "name": "python",
   "nbconvert_exporter": "python",
   "pygments_lexer": "ipython3",
   "version": "3.6.7-final"
  },
  "orig_nbformat": 2,
  "kernelspec": {
   "name": "python_defaultSpec_1600756223865",
   "display_name": "Python 3.6.7 64-bit ('tensorflow': conda)"
  }
 },
 "nbformat": 4,
 "nbformat_minor": 2,
 "cells": [
  {
   "cell_type": "code",
   "execution_count": 2,
   "metadata": {
    "tags": []
   },
   "outputs": [
    {
     "output_type": "stream",
     "name": "stderr",
     "text": "Using TensorFlow backend.\n"
    }
   ],
   "source": [
    "import pandas as pd\n",
    "import numpy as np\n",
    "import os\n",
    "from keras.models import Sequential, load_model\n",
    "from keras.layers import Dense, LSTM, Activation\n",
    "from keras import backend as K\n",
    "from keras.utils.generic_utils import get_custom_objects\n",
    "from keras.callbacks import ModelCheckpoint\n",
    "from keras.regularizers import l1_l2"
   ]
  },
  {
   "cell_type": "code",
   "execution_count": 3,
   "metadata": {
    "tags": []
   },
   "outputs": [
    {
     "output_type": "stream",
     "name": "stdout",
     "text": "loaded train_X\nloaded dev_X\nloaded test1_X\nloaded test2_X\nloaded train_Y\nloaded dev_Y\nloaded test1_Y\nloaded test2_Y\n"
    }
   ],
   "source": [
    "# Train - Dev - Test Generation\n",
    "train_X= pd.read_csv('../train_dev_test/after_arima/train_X.csv')\n",
    "print('loaded train_X')\n",
    "dev_X = pd.read_csv('../train_dev_test/after_arima/dev_X.csv')\n",
    "print('loaded dev_X')\n",
    "test1_X = pd.read_csv('../train_dev_test/after_arima/test1_X.csv')\n",
    "print('loaded test1_X')\n",
    "test2_X = pd.read_csv('../train_dev_test/after_arima/test2_X.csv')\n",
    "print('loaded test2_X')\n",
    "train_Y = pd.read_csv('../train_dev_test/after_arima/train_Y.csv')\n",
    "print('loaded train_Y')\n",
    "dev_Y = pd.read_csv('../train_dev_test/after_arima/dev_Y.csv')\n",
    "print('loaded dev_Y')\n",
    "test1_Y = pd.read_csv('../train_dev_test/after_arima/test1_Y.csv')\n",
    "print('loaded test1_Y')\n",
    "test2_Y = pd.read_csv('../train_dev_test/after_arima/test2_Y.csv')\n",
    "print('loaded test2_Y')\n",
    "train_X = train_X.loc[:, ~train_X.columns.str.contains('^Unnamed')]\n",
    "dev_X = dev_X.loc[:, ~dev_X.columns.str.contains('^Unnamed')]\n",
    "test1_X = test1_X.loc[:, ~test1_X.columns.str.contains('^Unnamed')]\n",
    "test2_X = test2_X.loc[:, ~test2_X.columns.str.contains('^Unnamed')]\n",
    "train_Y = train_Y.loc[:, ~train_Y.columns.str.contains('^Unnamed')]\n",
    "dev_Y = dev_Y.loc[:, ~dev_Y.columns.str.contains('^Unnamed')]\n",
    "test1_Y = test1_Y.loc[:, ~test1_Y.columns.str.contains('^Unnamed')]\n",
    "test2_Y = test2_Y.loc[:, ~test2_Y.columns.str.contains('^Unnamed')]"
   ]
  },
  {
   "cell_type": "code",
   "execution_count": 5,
   "metadata": {},
   "outputs": [],
   "source": [
    "# data sampling\n",
    "STEP = 20\n",
    "#num_list = [STEP*i for i in range(int(1117500/STEP))]\n",
    "\n",
    "_train_X = np.asarray(train_X).reshape((int(1117500/STEP), 20, 1))\n",
    "_dev_X = np.asarray(dev_X).reshape((int(1117500/STEP), 20, 1))\n",
    "_test1_X = np.asarray(test1_X).reshape((int(1117500/STEP), 20, 1))\n",
    "_test2_X = np.asarray(test2_X).reshape((int(1117500/STEP), 20, 1))\n",
    "\n",
    "_train_Y = np.asarray(train_Y).reshape(int(1117500/STEP), 1)\n",
    "_dev_Y = np.asarray(dev_Y).reshape(int(1117500/STEP), 1)\n",
    "_test1_Y = np.asarray(test1_Y).reshape(int(1117500/STEP), 1)\n",
    "_test2_Y = np.asarray(test2_Y).reshape(int(1117500/STEP), 1)"
   ]
  },
  {
   "cell_type": "code",
   "execution_count": 7,
   "metadata": {},
   "outputs": [],
   "source": [
    "#define custom activation\n",
    "class Double_Tanh(Activation):\n",
    "    def __init__(self, activation, **kwargs):\n",
    "        super(Double_Tanh, self).__init__(activation, **kwargs)\n",
    "        self.__name__ = 'double_tanh'\n",
    "\n",
    "def double_tanh(x):\n",
    "    return (K.tanh(x) * 2)\n",
    "\n",
    "get_custom_objects().update({'double_tanh':Double_Tanh(double_tanh)})"
   ]
  },
  {
   "cell_type": "code",
   "execution_count": 8,
   "metadata": {
    "tags": []
   },
   "outputs": [
    {
     "output_type": "stream",
     "name": "stdout",
     "text": "['loss', 'mean_squared_error', 'mean_absolute_error']\n"
    }
   ],
   "source": [
    "# Model Generation\n",
    "model = Sequential()\n",
    "#check https://machinelearningmastery.com/use-weight-regularization-lstm-networks-time-series-forecasting/\n",
    "model.add(LSTM(25, input_shape=(20,1), dropout=0.0, kernel_regularizer=l1_l2(0.00,0.00), bias_regularizer=l1_l2(0.00,0.00)))\n",
    "model.add(Dense(1))\n",
    "model.add(Activation(double_tanh))\n",
    "model.compile(loss='mean_squared_error', optimizer='adam', metrics=['mse', 'mae'])\n",
    "#, kernel_regularizer=l1_l2(0,0.1), bias_regularizer=l1_l2(0,0.1),\n",
    "\n",
    "print(model.metrics_names)"
   ]
  },
  {
   "cell_type": "code",
   "execution_count": 16,
   "metadata": {
    "tags": []
   },
   "outputs": [
    {
     "output_type": "stream",
     "name": "stdout",
     "text": "39474739724358\nEpoch 1/1\n55875/55875 [==============================] - 15s 270us/step - loss: 0.0389 - mean_squared_error: 0.0389 - mean_absolute_error: 0.1382\n\nEpoch 00001: saving model to ../models/hybrid_LSTM/epoch99.h5\n55875/55875 [==============================] - 10s 183us/step\n55875/55875 [==============================] - 7s 118us/step\n55875/55875 [==============================] - 7s 117us/step\n55875/55875 [==============================] - 6s 115us/step\ntrain set score : mse - 0.038022403641268444 / mae - 0.13428783950883003\ndev set score : mse - 0.0463109513511402 / mae - 0.1496475860485161\ntest1 set score : mse - 0.045464002353366326 / mae - 0.1480178530005534\ntest2 set score : mse - 0.05283451465992319 / mae - 0.1621828418250052\nEpoch 1/1\n55875/55875 [==============================] - 17s 296us/step - loss: 0.0390 - mean_squared_error: 0.0390 - mean_absolute_error: 0.1385\n\nEpoch 00001: saving model to ../models/hybrid_LSTM/epoch100.h5\n55875/55875 [==============================] - 14s 249us/step\n55875/55875 [==============================] - 9s 169us/step\n55875/55875 [==============================] - 8s 148us/step\n55875/55875 [==============================] - 8s 148us/step\ntrain set score : mse - 0.03919364125216567 / mae - 0.13917081052731614\ndev set score : mse - 0.050658876721820144 / mae - 0.16092308089683788\ntest1 set score : mse - 0.04900868597033307 / mae - 0.1567900538783212\ntest2 set score : mse - 0.05833577626783576 / mae - 0.17449023427899252\nEpoch 1/1\n55875/55875 [==============================] - 17s 298us/step - loss: 0.0386 - mean_squared_error: 0.0386 - mean_absolute_error: 0.1365\n\nEpoch 00001: saving model to ../models/hybrid_LSTM/epoch101.h5\n55875/55875 [==============================] - 13s 231us/step\n55875/55875 [==============================] - 9s 165us/step\n55875/55875 [==============================] - 8s 143us/step\n55875/55875 [==============================] - 9s 161us/step\ntrain set score : mse - 0.03805867163356085 / mae - 0.13305476324156892\ndev set score : mse - 0.0485232766827483 / mae - 0.15169601104880207\ntest1 set score : mse - 0.04708560510649777 / mae - 0.14911255331380788\ntest2 set score : mse - 0.05583707368880577 / mae - 0.1654015966443141\nEpoch 1/1\n55875/55875 [==============================] - 17s 307us/step - loss: 0.0385 - mean_squared_error: 0.0385 - mean_absolute_error: 0.1364\n\nEpoch 00001: saving model to ../models/hybrid_LSTM/epoch102.h5\n55875/55875 [==============================] - 13s 229us/step\n55875/55875 [==============================] - 9s 168us/step\n55875/55875 [==============================] - 11s 196us/step\n55875/55875 [==============================] - 9s 163us/step\ntrain set score : mse - 0.038945926929238595 / mae - 0.1361019581476314\ndev set score : mse - 0.04960518536672113 / mae - 0.1555768105010325\ntest1 set score : mse - 0.04819090021256633 / mae - 0.15280071194353254\ntest2 set score : mse - 0.05689007337714735 / mae - 0.1691196849364829\nEpoch 1/1\n55875/55875 [==============================] - 18s 324us/step - loss: 0.0386 - mean_squared_error: 0.0386 - mean_absolute_error: 0.1366\n\nEpoch 00001: saving model to ../models/hybrid_LSTM/epoch103.h5\n55875/55875 [==============================] - 14s 251us/step\n55875/55875 [==============================] - 10s 172us/step\n55875/55875 [==============================] - 9s 161us/step\n55875/55875 [==============================] - 10s 178us/step\ntrain set score : mse - 0.03886566311527685 / mae - 0.1366692093484087\ndev set score : mse - 0.042869655068628325 / mae - 0.1412936053705429\ntest1 set score : mse - 0.04265507011472246 / mae - 0.14225539474332627\ntest2 set score : mse - 0.047754491626749634 / mae - 0.1509264896596038\nEpoch 1/1\n55875/55875 [==============================] - 18s 320us/step - loss: 0.0383 - mean_squared_error: 0.0383 - mean_absolute_error: 0.1358\n\nEpoch 00001: saving model to ../models/hybrid_LSTM/epoch104.h5\n55875/55875 [==============================] - 14s 250us/step\n55875/55875 [==============================] - 10s 173us/step\n55875/55875 [==============================] - 10s 173us/step\n55875/55875 [==============================] - 9s 152us/step\ntrain set score : mse - 0.039634582794627685 / mae - 0.1360004059666355\ndev set score : mse - 0.05099058299702415 / mae - 0.15565961540758744\ntest1 set score : mse - 0.049819200824571135 / mae - 0.1535502425520212\ntest2 set score : mse - 0.059895201722514176 / mae - 0.1720730312801314\nEpoch 1/1\n55875/55875 [==============================] - 16s 294us/step - loss: 0.0384 - mean_squared_error: 0.0384 - mean_absolute_error: 0.1357\n\nEpoch 00001: saving model to ../models/hybrid_LSTM/epoch105.h5\n55875/55875 [==============================] - 11s 192us/step\n55875/55875 [==============================] - 10s 183us/step\n55875/55875 [==============================] - 9s 167us/step\n55875/55875 [==============================] - 9s 165us/step\ntrain set score : mse - 0.03788501203735203 / mae - 0.13417508157907718\ndev set score : mse - 0.044315632955192 / mae - 0.14529863114344993\ntest1 set score : mse - 0.043759176413018165 / mae - 0.14482569595311312\ntest2 set score : mse - 0.04996162241103932 / mae - 0.1556056875891867\nEpoch 1/1\n55875/55875 [==============================] - 15s 277us/step - loss: 0.0385 - mean_squared_error: 0.0385 - mean_absolute_error: 0.1366\n\nEpoch 00001: saving model to ../models/hybrid_LSTM/epoch106.h5\n55875/55875 [==============================] - 10s 185us/step\n55875/55875 [==============================] - 7s 134us/step\n55875/55875 [==============================] - 10s 178us/step\n55875/55875 [==============================] - 11s 197us/step\ntrain set score : mse - 0.03857762590067365 / mae - 0.13567227550280975\ndev set score : mse - 0.049301950835214485 / mae - 0.1529977406876399\ntest1 set score : mse - 0.04834471246953512 / mae - 0.1522207719466297\ntest2 set score : mse - 0.05767651535800639 / mae - 0.16804544926009723\nEpoch 1/1\n55875/55875 [==============================] - 15s 274us/step - loss: 0.0390 - mean_squared_error: 0.0390 - mean_absolute_error: 0.1386\n\nEpoch 00001: saving model to ../models/hybrid_LSTM/epoch107.h5\n55875/55875 [==============================] - 10s 177us/step\n55875/55875 [==============================] - 6s 111us/step\n55875/55875 [==============================] - 7s 131us/step\n55875/55875 [==============================] - 10s 185us/step\ntrain set score : mse - 0.037818665591120654 / mae - 0.13116791754781\ndev set score : mse - 0.04396301651096817 / mae - 0.14165121733342242\ntest1 set score : mse - 0.04348511848260359 / mae - 0.1412221871657126\ntest2 set score : mse - 0.04936115388615553 / mae - 0.15248379860335015\nEpoch 1/1\n55875/55875 [==============================] - 16s 287us/step - loss: 0.0382 - mean_squared_error: 0.0382 - mean_absolute_error: 0.1352\n\nEpoch 00001: saving model to ../models/hybrid_LSTM/epoch108.h5\n55875/55875 [==============================] - 13s 238us/step\n55875/55875 [==============================] - 10s 171us/step\n55875/55875 [==============================] - 9s 170us/step\n55875/55875 [==============================] - 8s 151us/step\ntrain set score : mse - 0.0377373018382113 / mae - 0.1347661058226688\ndev set score : mse - 0.04403888233515207 / mae - 0.14530547803043653\ntest1 set score : mse - 0.0435165357477713 / mae - 0.14496994020981543\ntest2 set score : mse - 0.04943897515982056 / mae - 0.15557020269330982\nEpoch 1/1\n55875/55875 [==============================] - 16s 282us/step - loss: 0.0389 - mean_squared_error: 0.0389 - mean_absolute_error: 0.1383\n\nEpoch 00001: saving model to ../models/hybrid_LSTM/epoch109.h5\n55875/55875 [==============================] - 10s 183us/step\n55875/55875 [==============================] - 6s 114us/step\n55875/55875 [==============================] - 6s 115us/step\n55875/55875 [==============================] - 6s 115us/step\ntrain set score : mse - 0.03770575907168039 / mae - 0.1330616677088092\ndev set score : mse - 0.043160745300442165 / mae - 0.1420091350036246\ntest1 set score : mse - 0.04275222564877013 / mae - 0.14176896257288504\ntest2 set score : mse - 0.048251784112629474 / mae - 0.15237576323787638\nEpoch 1/1\n55875/55875 [==============================] - 14s 252us/step - loss: 0.0381 - mean_squared_error: 0.0381 - mean_absolute_error: 0.1349\n\nEpoch 00001: saving model to ../models/hybrid_LSTM/epoch110.h5\n55875/55875 [==============================] - 10s 182us/step\n55875/55875 [==============================] - 6s 113us/step\n55875/55875 [==============================] - 6s 114us/step\n55875/55875 [==============================] - 6s 114us/step\ntrain set score : mse - 0.03835439075976277 / mae - 0.13642681658167968\ndev set score : mse - 0.04853857501388384 / mae - 0.15424315821564438\ntest1 set score : mse - 0.04733386073483183 / mae - 0.15245794942475005\ntest2 set score : mse - 0.05576517371189941 / mae - 0.16734975976511937\nEpoch 1/1\n55875/55875 [==============================] - 15s 265us/step - loss: 0.0382 - mean_squared_error: 0.0382 - mean_absolute_error: 0.1358\n\nEpoch 00001: saving model to ../models/hybrid_LSTM/epoch111.h5\n55875/55875 [==============================] - 12s 223us/step\n55875/55875 [==============================] - 9s 152us/step\n55875/55875 [==============================] - 9s 154us/step\n55875/55875 [==============================] - 9s 155us/step\ntrain set score : mse - 0.03723407879276764 / mae - 0.13251732947249006\ndev set score : mse - 0.04463832109093341 / mae - 0.14505711517077965\ntest1 set score : mse - 0.04384422720025317 / mae - 0.14418138638198777\ntest2 set score : mse - 0.05057063975450177 / mae - 0.15649367572343856\nEpoch 1/1\n55875/55875 [==============================] - 15s 271us/step - loss: 0.0382 - mean_squared_error: 0.0382 - mean_absolute_error: 0.1358\n\nEpoch 00001: saving model to ../models/hybrid_LSTM/epoch112.h5\n55875/55875 [==============================] - 13s 227us/step\n55875/55875 [==============================] - 9s 159us/step\n55875/55875 [==============================] - 8s 144us/step\n55875/55875 [==============================] - 9s 159us/step\ntrain set score : mse - 0.03780395767291054 / mae - 0.13492538262006953\ndev set score : mse - 0.04448298759304687 / mae - 0.14578153255191825\ntest1 set score : mse - 0.04369986734707617 / mae - 0.14497736171027958\ntest2 set score : mse - 0.04992599983743373 / mae - 0.15583686943422229\nEpoch 1/1\n55875/55875 [==============================] - 16s 289us/step - loss: 0.0381 - mean_squared_error: 0.0381 - mean_absolute_error: 0.1354\n\nEpoch 00001: saving model to ../models/hybrid_LSTM/epoch113.h5\n55875/55875 [==============================] - 12s 210us/step\n55875/55875 [==============================] - 7s 123us/step\n55875/55875 [==============================] - 8s 140us/step\n55875/55875 [==============================] - 7s 121us/step\ntrain set score : mse - 0.03851192932154242 / mae - 0.1375838940731631\ndev set score : mse - 0.04789168899565502 / mae - 0.15663231250557058\ntest1 set score : mse - 0.04670529548020438 / mae - 0.1534418934076958\ntest2 set score : mse - 0.054443467032856054 / mae - 0.1686345122199197\nEpoch 1/1\n55875/55875 [==============================] - 16s 286us/step - loss: 0.0383 - mean_squared_error: 0.0383 - mean_absolute_error: 0.1363\n\nEpoch 00001: saving model to ../models/hybrid_LSTM/epoch114.h5\n55875/55875 [==============================] - 10s 188us/step\n55875/55875 [==============================] - 6s 109us/step\n55875/55875 [==============================] - 6s 105us/step\n55875/55875 [==============================] - 6s 107us/step\ntrain set score : mse - 0.037482015263230875 / mae - 0.1335089208938398\ndev set score : mse - 0.04795207746559025 / mae - 0.15235758278387238\ntest1 set score : mse - 0.04667903126206174 / mae - 0.1499371531817737\ntest2 set score : mse - 0.05531940041305768 / mae - 0.16608482039108105\nEpoch 1/1\n55875/55875 [==============================] - 17s 300us/step - loss: 0.0379 - mean_squared_error: 0.0379 - mean_absolute_error: 0.1347\n\nEpoch 00001: saving model to ../models/hybrid_LSTM/epoch115.h5\n55875/55875 [==============================] - 11s 199us/step\n55875/55875 [==============================] - 6s 114us/step\n55875/55875 [==============================] - 7s 119us/step\n55875/55875 [==============================] - 7s 117us/step\ntrain set score : mse - 0.03841043387350087 / mae - 0.13714379659048395\ndev set score : mse - 0.04621193554543867 / mae - 0.15037280753761598\ntest1 set score : mse - 0.0450344545618533 / mae - 0.14859305742683027\ntest2 set score : mse - 0.05176108657667034 / mae - 0.15932412925422593\nEpoch 1/1\n55875/55875 [==============================] - 19s 343us/step - loss: 0.0378 - mean_squared_error: 0.0378 - mean_absolute_error: 0.1344\n\nEpoch 00001: saving model to ../models/hybrid_LSTM/epoch116.h5\n55875/55875 [==============================] - 11s 194us/step\n55875/55875 [==============================] - 6s 112us/step\n55875/55875 [==============================] - 6s 112us/step\n55875/55875 [==============================] - 6s 112us/step\ntrain set score : mse - 0.037489485304335955 / mae - 0.1308356732906111\ndev set score : mse - 0.043218132869757175 / mae - 0.14101732812331827\ntest1 set score : mse - 0.04268905792647027 / mae - 0.14014273858177048\ntest2 set score : mse - 0.0484556459719836 / mae - 0.1516562773800003\nEpoch 1/1\n55875/55875 [==============================] - 17s 298us/step - loss: 0.0381 - mean_squared_error: 0.0381 - mean_absolute_error: 0.1352\n\nEpoch 00001: saving model to ../models/hybrid_LSTM/epoch117.h5\n55875/55875 [==============================] - 11s 190us/step\n55875/55875 [==============================] - 7s 128us/step\n55875/55875 [==============================] - 7s 123us/step\n55875/55875 [==============================] - 7s 126us/step\ntrain set score : mse - 0.0374285921664446 / mae - 0.13242902313122815\ndev set score : mse - 0.047982925440042054 / mae - 0.1511433195118736\ntest1 set score : mse - 0.04670186080855278 / mae - 0.1491323678744186\ntest2 set score : mse - 0.055462921096041166 / mae - 0.1648065237518925\nEpoch 1/1\n55875/55875 [==============================] - 16s 294us/step - loss: 0.0376 - mean_squared_error: 0.0376 - mean_absolute_error: 0.1337\n\nEpoch 00001: saving model to ../models/hybrid_LSTM/epoch118.h5\n55875/55875 [==============================] - 11s 191us/step\n55875/55875 [==============================] - 6s 113us/step\n55875/55875 [==============================] - 6s 109us/step\n55875/55875 [==============================] - 6s 115us/step\ntrain set score : mse - 0.03728172797468018 / mae - 0.13460050881015642\ndev set score : mse - 0.045612310208787546 / mae - 0.14804752410734925\ntest1 set score : mse - 0.04468581464386626 / mae - 0.1472507648097322\ntest2 set score : mse - 0.05204301773261704 / mae - 0.15988057916036388\nEpoch 1/1\n55875/55875 [==============================] - 18s 316us/step - loss: 0.0382 - mean_squared_error: 0.0382 - mean_absolute_error: 0.1364\n\nEpoch 00001: saving model to ../models/hybrid_LSTM/epoch119.h5\n55875/55875 [==============================] - 11s 196us/step\n55875/55875 [==============================] - 7s 120us/step\n55875/55875 [==============================] - 6s 110us/step\n55875/55875 [==============================] - 7s 126us/step\ntrain set score : mse - 0.037325569606050685 / mae - 0.13348141052992285\ndev set score : mse - 0.04563585717692738 / mae - 0.14869972893142328\ntest1 set score : mse - 0.04482273938551845 / mae - 0.14735467413874548\ntest2 set score : mse - 0.05192110758133116 / mae - 0.16097252567769163\nEpoch 1/1\n55875/55875 [==============================] - 17s 299us/step - loss: 0.0380 - mean_squared_error: 0.0380 - mean_absolute_error: 0.1353\n\nEpoch 00001: saving model to ../models/hybrid_LSTM/epoch120.h5\n55875/55875 [==============================] - 10s 172us/step\n55875/55875 [==============================] - 6s 101us/step\n55875/55875 [==============================] - 6s 102us/step\n55875/55875 [==============================] - 6s 101us/step\ntrain set score : mse - 0.03779832135604265 / mae - 0.1351015892558183\ndev set score : mse - 0.0431624195476248 / mae - 0.14247420633879285\ntest1 set score : mse - 0.04286319100603428 / mae - 0.14335318391488436\ntest2 set score : mse - 0.048437477551917366 / mae - 0.15241738724948575\nEpoch 1/1\n55875/55875 [==============================] - 17s 296us/step - loss: 0.0377 - mean_squared_error: 0.0377 - mean_absolute_error: 0.1341\n\nEpoch 00001: saving model to ../models/hybrid_LSTM/epoch121.h5\n55875/55875 [==============================] - 10s 170us/step\n55875/55875 [==============================] - 6s 100us/step\n55875/55875 [==============================] - 6s 99us/step\n55875/55875 [==============================] - 6s 100us/step\ntrain set score : mse - 0.03698860086844838 / mae - 0.13199748769375835\ndev set score : mse - 0.04399238037337368 / mae - 0.14458337682872277\ntest1 set score : mse - 0.04332145320169078 / mae - 0.1436796401664448\ntest2 set score : mse - 0.049896242140856896 / mae - 0.15595663754145303\nEpoch 1/1\n55875/55875 [==============================] - 16s 293us/step - loss: 0.0377 - mean_squared_error: 0.0377 - mean_absolute_error: 0.1342\n\nEpoch 00001: saving model to ../models/hybrid_LSTM/epoch122.h5\n55875/55875 [==============================] - 10s 175us/step\n55875/55875 [==============================] - 6s 101us/step\n55875/55875 [==============================] - 7s 128us/step\n55875/55875 [==============================] - 6s 110us/step\ntrain set score : mse - 0.03686970041324728 / mae - 0.13112824399412612\ndev set score : mse - 0.04616999973724461 / mae - 0.14710695878958008\ntest1 set score : mse - 0.04509574796836115 / mae - 0.14559366561582424\ntest2 set score : mse - 0.052980771357447776 / mae - 0.1603740406463077\nEpoch 1/1\n55875/55875 [==============================] - 18s 321us/step - loss: 0.0376 - mean_squared_error: 0.0376 - mean_absolute_error: 0.1341\n\nEpoch 00001: saving model to ../models/hybrid_LSTM/epoch123.h5\n55875/55875 [==============================] - 12s 210us/step\n55875/55875 [==============================] - 10s 175us/step\n55875/55875 [==============================] - 10s 176us/step\n55875/55875 [==============================] - 6s 114us/step\ntrain set score : mse - 0.03722358271219586 / mae - 0.13022782429852742\ndev set score : mse - 0.04363802919566832 / mae - 0.1412446474431945\ntest1 set score : mse - 0.04309799250900345 / mae - 0.140613984751488\ntest2 set score : mse - 0.04949598490791833 / mae - 0.1529207712801244\nEpoch 1/1\n55875/55875 [==============================] - 17s 310us/step - loss: 0.0376 - mean_squared_error: 0.0376 - mean_absolute_error: 0.1340\n\nEpoch 00001: saving model to ../models/hybrid_LSTM/epoch124.h5\n55875/55875 [==============================] - 12s 208us/step\n55875/55875 [==============================] - 7s 126us/step\n55875/55875 [==============================] - 7s 118us/step\n55875/55875 [==============================] - 7s 122us/step\ntrain set score : mse - 0.03825340587559096 / mae - 0.1367638200646812\ndev set score : mse - 0.043445617800841 / mae - 0.1451520268650063\ntest1 set score : mse - 0.04288002879454252 / mae - 0.1446156647922742\ntest2 set score : mse - 0.048244425570871476 / mae - 0.15448662734165022\nEpoch 1/1\n55875/55875 [==============================] - 18s 323us/step - loss: 0.0378 - mean_squared_error: 0.0378 - mean_absolute_error: 0.1350\n\nEpoch 00001: saving model to ../models/hybrid_LSTM/epoch125.h5\n55875/55875 [==============================] - 12s 207us/step\n55875/55875 [==============================] - 7s 121us/step\n55875/55875 [==============================] - 7s 129us/step\n55875/55875 [==============================] - 7s 123us/step\ntrain set score : mse - 0.038525218424631046 / mae - 0.136963988857648\ndev set score : mse - 0.04357535571496834 / mae - 0.14502206127142211\ntest1 set score : mse - 0.04288368466076435 / mae - 0.14418220415398045\ntest2 set score : mse - 0.04829073731484562 / mae - 0.15364824089161236\n"
    }
   ],
   "source": [
    "# Fitting the Model\n",
    "model_scores = {}\n",
    "Reg = False\n",
    "d = 'hybrid_LSTM'\n",
    "\n",
    "if Reg :\n",
    "    d += '_with_reg'\n",
    "\n",
    "epoch_num=1\n",
    "for _ in range(270):\n",
    "\n",
    "    # train the model\n",
    "    dir = '../models/'+d\n",
    "    # if dir not exit, make it\n",
    "    if not os.path.exists(dir):\n",
    "        os.makedirs(dir)\n",
    "        print(\"Make the file: {}\".format(dir))\n",
    "    file_list = os.listdir(dir)\n",
    "\n",
    "    if len(file_list) != 0 :\n",
    "        epoch_num = len(file_list) + 1\n",
    "        recent_model_name = 'epoch'+str(epoch_num-1)+'.h5'\n",
    "        filepath = '../models/' + d + '/' + recent_model_name\n",
    "        model = load_model(filepath)\n",
    "\n",
    "    filepath = '../models/' + d + '/epoch'+str(epoch_num)+'.h5'\n",
    "\n",
    "    checkpoint = ModelCheckpoint(filepath, monitor='loss', verbose=1, save_best_only=False, mode='min')\n",
    "    callbacks_list = [checkpoint]\n",
    "    if len(callbacks_list) == 0:\n",
    "        model.fit(_train_X, _train_Y, epochs=1, batch_size=500, shuffle=True)\n",
    "    else:\n",
    "        model.fit(_train_X, _train_Y, epochs=1, batch_size=500, shuffle=True, callbacks=callbacks_list)\n",
    "\n",
    "    # test the model\n",
    "    score_train = model.evaluate(_train_X, _train_Y)\n",
    "    score_dev = model.evaluate(_dev_X, _dev_Y)\n",
    "    score_test1 = model.evaluate(_test1_X, _test1_Y)\n",
    "    score_test2 = model.evaluate(_test2_X, _test2_Y)\n",
    "\n",
    "    print('train set score : mse - ' + str(score_train[1]) +' / mae - ' + str(score_train[2]))\n",
    "    print('dev set score : mse - ' + str(score_dev[1]) +' / mae - ' + str(score_dev[2]))\n",
    "    print('test1 set score : mse - ' + str(score_test1[1]) +' / mae - ' + str(score_test1[2]))\n",
    "    print('test2 set score : mse - ' + str(score_test2[1]) +' / mae - ' + str(score_test2[2]))\n",
    "#.history['mean_squared_error'][0]\n",
    "\n",
    "    # get former score data\n",
    "    file_name = \"../models/\"+d+\".csv\"\n",
    "    if not os.path.exists(file_name):\n",
    "        df = pd.DataFrame(columns = [\"DEV_MAE\",\"DEV_MSE\",\"TEST1_MAE\",\"TEST1_MSE\",\"TEST2_MAE\",\"TEST2_MSE\",\"TRAIN_MAE\",\"TRAIN_MSE\"])\n",
    "    else:\n",
    "        df = pd.read_csv(file_name)\n",
    "\n",
    "    train_mse = list(df['TRAIN_MSE'])\n",
    "    dev_mse = list(df['DEV_MSE'])\n",
    "    test1_mse = list(df['TEST1_MSE'])\n",
    "    test2_mse = list(df['TEST2_MSE'])\n",
    "\n",
    "    train_mae = list(df['TRAIN_MAE'])\n",
    "    dev_mae = list(df['DEV_MAE'])\n",
    "    test1_mae = list(df['TEST1_MAE'])\n",
    "    test2_mae = list(df['TEST2_MAE'])\n",
    "\n",
    "    # append new data\n",
    "    train_mse.append(score_train[1])\n",
    "    dev_mse.append(score_dev[1])\n",
    "    test1_mse.append(score_test1[1])\n",
    "    test2_mse.append(score_test2[1])\n",
    "\n",
    "    train_mae.append(score_train[2])\n",
    "    dev_mae.append(score_dev[2])\n",
    "    test1_mae.append(score_test1[2])\n",
    "    test2_mae.append(score_test2[2])\n",
    "\n",
    "    # organize newly created score dataset\n",
    "    model_scores['TRAIN_MSE'] = train_mse\n",
    "    model_scores['DEV_MSE'] = dev_mse\n",
    "    model_scores['TEST1_MSE'] = test1_mse\n",
    "    model_scores['TEST2_MSE'] = test2_mse\n",
    "\n",
    "    model_scores['TRAIN_MAE'] = train_mae\n",
    "    model_scores['DEV_MAE'] = dev_mae\n",
    "    model_scores['TEST1_MAE'] = test1_mae\n",
    "    model_scores['TEST2_MAE'] = test2_mae\n",
    "\n",
    "    # save newly created score dataset\n",
    "    model_scores_df = pd.DataFrame(model_scores)\n",
    "    model_scores_df.to_csv(\"../models/\"+d+\".csv\")"
   ]
  },
  {
   "cell_type": "code",
   "execution_count": null,
   "metadata": {},
   "outputs": [],
   "source": []
  }
 ]
}