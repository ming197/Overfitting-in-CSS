{
 "metadata": {
  "language_info": {
   "codemirror_mode": {
    "name": "ipython",
    "version": 3
   },
   "file_extension": ".py",
   "mimetype": "text/x-python",
   "name": "python",
   "nbconvert_exporter": "python",
   "pygments_lexer": "ipython3",
   "version": "3.6.7-final"
  },
  "orig_nbformat": 2,
  "kernelspec": {
   "name": "python_defaultSpec_1600756223865",
   "display_name": "Python 3.6.7 64-bit ('tensorflow': conda)"
  }
 },
 "nbformat": 4,
 "nbformat_minor": 2,
 "cells": [
  {
   "cell_type": "code",
   "execution_count": 2,
   "metadata": {
    "tags": []
   },
   "outputs": [
    {
     "output_type": "stream",
     "name": "stderr",
     "text": "Using TensorFlow backend.\n"
    }
   ],
   "source": [
    "import pandas as pd\n",
    "import numpy as np\n",
    "import os\n",
    "from keras.models import Sequential, load_model\n",
    "from keras.layers import Dense, LSTM, Activation\n",
    "from keras import backend as K\n",
    "from keras.utils.generic_utils import get_custom_objects\n",
    "from keras.callbacks import ModelCheckpoint\n",
    "from keras.regularizers import l1_l2"
   ]
  },
  {
   "cell_type": "code",
   "execution_count": 3,
   "metadata": {
    "tags": []
   },
   "outputs": [
    {
     "output_type": "stream",
     "name": "stdout",
     "text": "loaded train_X\nloaded dev_X\nloaded test1_X\nloaded test2_X\nloaded train_Y\nloaded dev_Y\nloaded test1_Y\nloaded test2_Y\n"
    }
   ],
   "source": [
    "# Train - Dev - Test Generation\n",
    "train_X= pd.read_csv('../train_dev_test/after_arima/train_X.csv')\n",
    "print('loaded train_X')\n",
    "dev_X = pd.read_csv('../train_dev_test/after_arima/dev_X.csv')\n",
    "print('loaded dev_X')\n",
    "test1_X = pd.read_csv('../train_dev_test/after_arima/test1_X.csv')\n",
    "print('loaded test1_X')\n",
    "test2_X = pd.read_csv('../train_dev_test/after_arima/test2_X.csv')\n",
    "print('loaded test2_X')\n",
    "train_Y = pd.read_csv('../train_dev_test/after_arima/train_Y.csv')\n",
    "print('loaded train_Y')\n",
    "dev_Y = pd.read_csv('../train_dev_test/after_arima/dev_Y.csv')\n",
    "print('loaded dev_Y')\n",
    "test1_Y = pd.read_csv('../train_dev_test/after_arima/test1_Y.csv')\n",
    "print('loaded test1_Y')\n",
    "test2_Y = pd.read_csv('../train_dev_test/after_arima/test2_Y.csv')\n",
    "print('loaded test2_Y')\n",
    "train_X = train_X.loc[:, ~train_X.columns.str.contains('^Unnamed')]\n",
    "dev_X = dev_X.loc[:, ~dev_X.columns.str.contains('^Unnamed')]\n",
    "test1_X = test1_X.loc[:, ~test1_X.columns.str.contains('^Unnamed')]\n",
    "test2_X = test2_X.loc[:, ~test2_X.columns.str.contains('^Unnamed')]\n",
    "train_Y = train_Y.loc[:, ~train_Y.columns.str.contains('^Unnamed')]\n",
    "dev_Y = dev_Y.loc[:, ~dev_Y.columns.str.contains('^Unnamed')]\n",
    "test1_Y = test1_Y.loc[:, ~test1_Y.columns.str.contains('^Unnamed')]\n",
    "test2_Y = test2_Y.loc[:, ~test2_Y.columns.str.contains('^Unnamed')]"
   ]
  },
  {
   "cell_type": "code",
   "execution_count": 4,
   "metadata": {},
   "outputs": [],
   "source": [
    "# data sampling\n",
    "STEP = 20\n",
    "#num_list = [STEP*i for i in range(int(1117500/STEP))]\n",
    "\n",
    "_train_X = np.asarray(train_X).reshape((int(1117500/STEP), 20, 1))\n",
    "_dev_X = np.asarray(dev_X).reshape((int(1117500/STEP), 20, 1))\n",
    "_test1_X = np.asarray(test1_X).reshape((int(1117500/STEP), 20, 1))\n",
    "_test2_X = np.asarray(test2_X).reshape((int(1117500/STEP), 20, 1))\n",
    "\n",
    "_train_Y = np.asarray(train_Y).reshape(int(1117500/STEP), 1)\n",
    "_dev_Y = np.asarray(dev_Y).reshape(int(1117500/STEP), 1)\n",
    "_test1_Y = np.asarray(test1_Y).reshape(int(1117500/STEP), 1)\n",
    "_test2_Y = np.asarray(test2_Y).reshape(int(1117500/STEP), 1)"
   ]
  },
  {
   "cell_type": "code",
   "execution_count": 5,
   "metadata": {},
   "outputs": [
    {
     "output_type": "execute_result",
     "data": {
      "text/plain": "(55875, 20, 1)"
     },
     "metadata": {},
     "execution_count": 5
    }
   ],
   "source": [
    "_train_X .shape"
   ]
  },
  {
   "cell_type": "code",
   "execution_count": null,
   "metadata": {},
   "outputs": [],
   "source": []
  }
 ]
}