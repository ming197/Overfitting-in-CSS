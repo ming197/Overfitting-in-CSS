{
 "metadata": {
  "language_info": {
   "codemirror_mode": {
    "name": "ipython",
    "version": 3
   },
   "file_extension": ".py",
   "mimetype": "text/x-python",
   "name": "python",
   "nbconvert_exporter": "python",
   "pygments_lexer": "ipython3",
   "version": "3.8.5-final"
  },
  "orig_nbformat": 2,
  "kernelspec": {
   "name": "Python 3.8.5 64-bit ('finance': conda)",
   "display_name": "Python 3.8.5 64-bit ('finance': conda)",
   "metadata": {
    "interpreter": {
     "hash": "9dde2febae14464144f16e1ff09df3b0fd795a14f1f1e02068becc6df64c049a"
    }
   }
  }
 },
 "nbformat": 4,
 "nbformat_minor": 2,
 "cells": [
  {
   "cell_type": "code",
   "execution_count": 1,
   "metadata": {
    "tags": []
   },
   "outputs": [
    {
     "output_type": "stream",
     "name": "stdout",
     "text": "================================================================================\nLoading Dataset....\n...................................................................... Completed\nNumber of data: 735\nBatch Size: 1024\nNumber of Batches: 1\n--------------------------------------------------------------------------------\n"
    }
   ],
   "source": [
    "import sys\n",
    "import numpy as np\n",
    "import torch\n",
    "import torch.nn as nn\n",
    "from torch.optim import Adam\n",
    "from pathlib import Path\n",
    "import myDataloader as db\n",
    "import matplotlib.pyplot as plt"
   ]
  },
  {
   "cell_type": "code",
   "execution_count": 3,
   "metadata": {},
   "outputs": [],
   "source": [
    "device = torch.device('cuda' if torch.cuda.is_available() else 'cpu')\n",
    "\n",
    "SEED = 0\n",
    "torch.manual_seed(SEED)\n",
    "np.random.seed(SEED)\n",
    "\n",
    "class Sequence(nn.Module):\n",
    "    def __init__(self):\n",
    "        super(Sequence, self).__init__()\n",
    "        self.numLayers = 1\n",
    "        self.input_dim = 1\n",
    "        self.output_dim = self.input_dim\n",
    "        self.hidden_size = 128\n",
    "        self.batchSize = db.batchSize  # or numData when numData < batchSize\n",
    "        self.numData = db.numSequences\n",
    "        if(self.numData <= self.batchSize):\n",
    "            self.batchSize = self.numData\n",
    "\n",
    "        self.lstm1 = nn.LSTM(self.input_dim, self.hidden_size)\n",
    "        self.linear = nn.Linear(self.hidden_size, self.output_dim)\n",
    "\n",
    "        h0 = torch.zeros(self.numLayers, self.numData, self.hidden_size).to(device)\n",
    "        self.h0 = nn.Parameter(h0, requires_grad=True)\n",
    "\n",
    "\n",
    "    def forward(self, input, label):\n",
    "        seqLength = input.shape[0]\n",
    "        numDataInBatch = input.shape[1]\n",
    "        for i in range(len(label)):\n",
    "            idxSeq = label[i][0]\n",
    "            temp = self.h0[:,idxSeq,:].view(1,1,-1)\n",
    "            if(i == 0):\n",
    "                h0 = temp\n",
    "            else:\n",
    "                h0 = torch.cat((h0, temp), 1)\n",
    "\n",
    "        for t in range(seqLength):\n",
    "            if(t ==0):\n",
    "                h_t = h0\n",
    "                c_t = torch.zeros(self.numLayers, numDataInBatch, self.hidden_size).to(device)\n",
    "                input_t = torch.zeros(1, numDataInBatch, self.input_dim).to(device)  # firstDim = time = 1\n",
    "            else:\n",
    "                input_t = output\n",
    "\n",
    "            output, (h_t, c_t) = self.lstm1(input_t, (h_t, c_t))\n",
    "\n",
    "            output = self.linear(h_t)\n",
    "\n",
    "            if (t == 0):\n",
    "                outputs = output\n",
    "            else:\n",
    "                outputs = torch.cat((outputs,output),0)\n",
    "\n",
    "        return outputs"
   ]
  },
  {
   "cell_type": "code",
   "execution_count": 4,
   "metadata": {},
   "outputs": [],
   "source": [
    "checkpoint = torch.load('./result/model_best.tar', map_location=torch.device('cpu'))\n",
    "learningRate = 0.001\n",
    "numEpoch = 100000\n",
    "\n",
    "model = Sequence().to(device)\n",
    "optimizer = Adam(params=model.parameters(), lr=learningRate)\n",
    "criterion = nn.MSELoss()\n",
    "\n",
    "model.load_state_dict(checkpoint['model_state_dict'])\n",
    "optimizer.load_state_dict(checkpoint['optimizer_state_dict'])\n",
    "epoch = checkpoint['epoch']\n",
    "loss = checkpoint['loss']\n"
   ]
  },
  {
   "cell_type": "code",
   "execution_count": 9,
   "metadata": {},
   "outputs": [],
   "source": [
    "import torch\n",
    "from torch.utils.data import Dataset, DataLoader\n",
    "from torch.nn.utils.rnn import pad_sequence\n",
    "import numpy as np\n",
    "import glob, os\n",
    "\n",
    "class myDataset(Dataset):\n",
    "    def __init__(self, data):\n",
    "        self.data_input, self.data_label = data\n",
    "    def __getitem__(self, index):\n",
    "        return self.data_input[index], self.data_label[index]\n",
    "    def __len__(self):\n",
    "        return len(self.data_input)\n"
   ]
  },
  {
   "cell_type": "code",
   "execution_count": 48,
   "metadata": {
    "tags": []
   },
   "outputs": [
    {
     "output_type": "stream",
     "name": "stdout",
     "text": "================================================================================\nLoading Dataset....\n"
    }
   ],
   "source": [
    "\n",
    "DATA_TR = []\n",
    "DATA_INPUT = []\n",
    "DATA_LABEL = []\n",
    "\n",
    "# ================================================================================================\n",
    "# These variables are used in other python files as well\n",
    "batchSize = 1024\n",
    "numSequences = 0\n",
    "seqLenth = 241 # Length of the sequence.\n",
    "# ================================================================================================\n",
    "\n",
    "print('=' * 80)\n",
    "print('Loading Dataset....')\n",
    "\n",
    "txtFiles = glob.glob(\"./data/2019-01-01_2019-12-31/*KS*.txt\")\n",
    "txtFiles = sorted(txtFiles)\n",
    "numFiles = len(txtFiles)\n",
    "\n",
    "maxLength  = 0\n",
    "\n",
    "for idx in range(numFiles):\n",
    "    posFilename = txtFiles[idx]\n",
    "    data = torch.Tensor(np.loadtxt(posFilename))\n",
    "    # print(type(data))\n",
    "    # print(data.shape)\n",
    "\n",
    "    scalingFactor = data[0]\n",
    "    data = data / scalingFactor\n",
    "    data = data - 1.0 \n",
    "\n",
    "    DATA_INPUT.append(data)\n",
    "    DATA_LABEL.append([idx])\n",
    "    numSequences += 1\n",
    "\n",
    "\n"
   ]
  },
  {
   "cell_type": "code",
   "execution_count": 49,
   "metadata": {},
   "outputs": [
    {
     "output_type": "execute_result",
     "data": {
      "text/plain": "torch.Tensor"
     },
     "metadata": {},
     "execution_count": 49
    }
   ],
   "source": [
    "type(DATA_INPUT[0])"
   ]
  },
  {
   "cell_type": "code",
   "execution_count": 43,
   "metadata": {},
   "outputs": [
    {
     "output_type": "execute_result",
     "data": {
      "text/plain": "tensor(0.)"
     },
     "metadata": {},
     "execution_count": 43
    }
   ],
   "source": [
    "DATA_INPUT[0][0]"
   ]
  },
  {
   "cell_type": "code",
   "execution_count": 27,
   "metadata": {},
   "outputs": [
    {
     "output_type": "error",
     "ename": "AttributeError",
     "evalue": "'DataLoader' object has no attribute 'size'",
     "traceback": [
      "\u001b[1;31m---------------------------------------------------------------------------\u001b[0m",
      "\u001b[1;31mAttributeError\u001b[0m                            Traceback (most recent call last)",
      "\u001b[1;32m<ipython-input-27-c52d4eccc142>\u001b[0m in \u001b[0;36m<module>\u001b[1;34m\u001b[0m\n\u001b[1;32m----> 1\u001b[1;33m \u001b[0mdb\u001b[0m\u001b[1;33m.\u001b[0m\u001b[0mdata_loader\u001b[0m\u001b[1;33m.\u001b[0m\u001b[0msize\u001b[0m\u001b[1;33m(\u001b[0m\u001b[1;33m)\u001b[0m\u001b[1;33m\u001b[0m\u001b[1;33m\u001b[0m\u001b[0m\n\u001b[0m",
      "\u001b[1;31mAttributeError\u001b[0m: 'DataLoader' object has no attribute 'size'"
     ]
    }
   ],
   "source": [
    "db.data_loader"
   ]
  },
  {
   "cell_type": "code",
   "execution_count": 35,
   "metadata": {
    "tags": []
   },
   "outputs": [
    {
     "output_type": "stream",
     "name": "stdout",
     "text": "2397.0\n3123.55\n"
    }
   ],
   "source": [
    "path = \"./data/2019-01-01_2019-12-31/000020.KS.txt\"\n",
    "data = torch.Tensor(np.loadtxt(posFilename)).numpy().tolist()\n",
    "avg = data[0]\n",
    "sum1 = sum(data[1:])\n",
    "print(avg)\n",
    "print(sum1/240.0)"
   ]
  },
  {
   "cell_type": "code",
   "execution_count": null,
   "metadata": {},
   "outputs": [],
   "source": []
  }
 ]
}