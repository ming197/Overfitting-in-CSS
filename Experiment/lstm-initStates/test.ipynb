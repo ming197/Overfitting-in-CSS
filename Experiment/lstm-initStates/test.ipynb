{
 "metadata": {
  "language_info": {
   "codemirror_mode": {
    "name": "ipython",
    "version": 3
   },
   "file_extension": ".py",
   "mimetype": "text/x-python",
   "name": "python",
   "nbconvert_exporter": "python",
   "pygments_lexer": "ipython3",
   "version": "3.6.10-final"
  },
  "orig_nbformat": 2,
  "kernelspec": {
   "name": "Python 3.6.10 64-bit",
   "display_name": "Python 3.6.10 64-bit",
   "metadata": {
    "interpreter": {
     "hash": "be203ce0b3afc4f5c37fbac412025d7ed1d67cabe9dd00b1fc8774c6d6d19d70"
    }
   }
  }
 },
 "nbformat": 4,
 "nbformat_minor": 2,
 "cells": [
  {
   "cell_type": "code",
   "execution_count": 3,
   "metadata": {},
   "outputs": [],
   "source": [
    "import torch\n",
    "from torch.utils.data import Dataset, DataLoader\n",
    "from torch.nn.utils.rnn import pad_sequence\n",
    "import numpy as np\n",
    "import glob, os\n",
    "\n",
    "class myDataset(Dataset):\n",
    "    def __init__(self, data):\n",
    "        self.data_input, self.data_label = data\n",
    "    def __getitem__(self, index):\n",
    "        return self.data_input[index], self.data_label[index]\n",
    "    def __len__(self):\n",
    "        return len(self.data_input)\n"
   ]
  },
  {
   "cell_type": "code",
   "execution_count": 4,
   "metadata": {
    "tags": []
   },
   "outputs": [
    {
     "output_type": "stream",
     "name": "stdout",
     "text": "================================================================================\nLoading Dataset....\n"
    }
   ],
   "source": [
    "\n",
    "DATA_TR = []\n",
    "DATA_INPUT = []\n",
    "DATA_LABEL = []\n",
    "\n",
    "# ================================================================================================\n",
    "# These variables are used in other python files as well\n",
    "batchSize = 1024\n",
    "numSequences = 0\n",
    "seqLenth = 241 # Length of the sequence.\n",
    "# ================================================================================================\n",
    "\n",
    "print('=' * 80)\n",
    "print('Loading Dataset....')\n",
    "\n",
    "txtFiles = glob.glob(\"./data/2019-01-01_2019-12-31/*KS*.txt\")\n",
    "txtFiles = sorted(txtFiles)\n",
    "numFiles = len(txtFiles)\n",
    "\n",
    "maxLength  = 0\n",
    "\n",
    "for idx in range(numFiles):\n",
    "    posFilename = txtFiles[idx]\n",
    "    data = torch.Tensor(np.loadtxt(posFilename))\n",
    "    # print(type(data))\n",
    "    # print(data.shape)\n",
    "\n",
    "    scalingFactor = data[0]\n",
    "    data = data / scalingFactor\n",
    "    data = data - 1.0 \n",
    "\n",
    "    DATA_INPUT.append(data)\n",
    "    DATA_LABEL.append([idx])\n",
    "    numSequences += 1\n",
    "\n",
    "DATA_TR.append(DATA_INPUT)\n",
    "DATA_TR.append(DATA_LABEL)\n"
   ]
  },
  {
   "cell_type": "code",
   "execution_count": 5,
   "metadata": {},
   "outputs": [],
   "source": [
    "def pad_collate(batch):\n",
    "  (xx, yy) = zip(*batch)\n",
    "  xx_pad = pad_sequence(xx, batch_first=True, padding_value=0)\n",
    "\n",
    "  return xx_pad, yy\n",
    "\n",
    "\n",
    "dataset = myDataset(DATA_TR)\n",
    "data_loader = DataLoader(dataset=dataset, batch_size=batchSize, shuffle=True, collate_fn=pad_collate)\n",
    "numBatches = len(data_loader)"
   ]
  },
  {
   "cell_type": "code",
   "execution_count": 6,
   "metadata": {},
   "outputs": [
    {
     "output_type": "execute_result",
     "data": {
      "text/plain": "<torch.utils.data.dataloader.DataLoader at 0x1fbc99e5d68>"
     },
     "metadata": {},
     "execution_count": 6
    }
   ],
   "source": [
    "data_loader"
   ]
  },
  {
   "cell_type": "code",
   "execution_count": 1,
   "metadata": {},
   "outputs": [],
   "source": [
    "import torch\n",
    " \n",
    "a = torch.tensor([[3, 7, 2], [2, 8, 3]])\n"
   ]
  },
  {
   "cell_type": "code",
   "execution_count": 2,
   "metadata": {},
   "outputs": [
    {
     "output_type": "execute_result",
     "data": {
      "text/plain": [
       "tensor([[3, 7, 2],\n",
       "        [2, 8, 3]])"
      ]
     },
     "metadata": {},
     "execution_count": 2
    }
   ],
   "source": [
    "a"
   ]
  },
  {
   "cell_type": "code",
   "execution_count": 3,
   "metadata": {},
   "outputs": [
    {
     "output_type": "execute_result",
     "data": {
      "text/plain": [
       "tensor([3, 7, 2])"
      ]
     },
     "metadata": {},
     "execution_count": 3
    }
   ],
   "source": [
    "a[0, :]"
   ]
  },
  {
   "cell_type": "code",
   "execution_count": 4,
   "metadata": {},
   "outputs": [],
   "source": [
    "b = a[0, :].expand(4,3)"
   ]
  },
  {
   "cell_type": "code",
   "execution_count": 5,
   "metadata": {},
   "outputs": [
    {
     "output_type": "execute_result",
     "data": {
      "text/plain": [
       "tensor([[3, 7, 2],\n",
       "        [3, 7, 2],\n",
       "        [3, 7, 2],\n",
       "        [3, 7, 2]])"
      ]
     },
     "metadata": {},
     "execution_count": 5
    }
   ],
   "source": [
    "b"
   ]
  },
  {
   "cell_type": "code",
   "execution_count": null,
   "metadata": {},
   "outputs": [],
   "source": []
  }
 ]
}