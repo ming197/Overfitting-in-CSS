{
 "metadata": {
  "language_info": {
   "codemirror_mode": {
    "name": "ipython",
    "version": 3
   },
   "file_extension": ".py",
   "mimetype": "text/x-python",
   "name": "python",
   "nbconvert_exporter": "python",
   "pygments_lexer": "ipython3",
   "version": "3.7.6-final"
  },
  "orig_nbformat": 2,
  "kernelspec": {
   "name": "Python 3.7.6 64-bit ('base': conda)",
   "display_name": "Python 3.7.6 64-bit ('base': conda)",
   "metadata": {
    "interpreter": {
     "hash": "df619985315deac7a16192b1002f6732827f3aaa3582dc671808acaae285e381"
    }
   }
  }
 },
 "nbformat": 4,
 "nbformat_minor": 2,
 "cells": [
  {
   "cell_type": "code",
   "execution_count": 38,
   "metadata": {},
   "outputs": [],
   "source": [
    "import os, sys\n",
    "import pandas as pd\n",
    "from datetime import datetime\n",
    "import numpy as np\n",
    "import calendar\n",
    "import time,json"
   ]
  },
  {
   "cell_type": "code",
   "execution_count": 35,
   "metadata": {},
   "outputs": [],
   "source": [
    "keys = [\"{}-{:02d}\".format(year, month) for year in range(1990, 2019) for month in range(1, 13)]"
   ]
  },
  {
   "cell_type": "code",
   "execution_count": 36,
   "metadata": {
    "tags": []
   },
   "outputs": [],
   "source": [
    "data_dict = dict.fromkeys(keys)\n",
    "path = './exceptions.txt'\n",
    "for line in open(path):\n",
    "    ticker = line.split(\" \")[0]\n",
    "    date = line.split(\" \")[2]\n",
    "    if(data_dict[date] == None):\n",
    "        data_dict[date] = [ticker]\n",
    "    elif isinstance(data_dict[date], list):\n",
    "        data_dict[date].append(ticker)"
   ]
  },
  {
   "cell_type": "code",
   "execution_count": 42,
   "metadata": {},
   "outputs": [],
   "source": [
    "# 写入json文件\n",
    "jso_str = json.dumps(data_dict, indent=4, ensure_ascii=False)\n",
    "with open(\"./exceptions.josn\", \"w\", encoding='utf-8') as json_file:\n",
    "    json_file.write(jso_str)"
   ]
  },
  {
   "cell_type": "code",
   "execution_count": null,
   "metadata": {},
   "outputs": [],
   "source": []
  }
 ]
}