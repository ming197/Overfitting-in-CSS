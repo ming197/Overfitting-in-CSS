{
 "metadata": {
  "language_info": {
   "codemirror_mode": {
    "name": "ipython",
    "version": 3
   },
   "file_extension": ".py",
   "mimetype": "text/x-python",
   "name": "python",
   "nbconvert_exporter": "python",
   "pygments_lexer": "ipython3",
   "version": "3.6.7-final"
  },
  "orig_nbformat": 2,
  "kernelspec": {
   "name": "Python 3.6.7 64-bit",
   "display_name": "Python 3.6.7 64-bit",
   "metadata": {
    "interpreter": {
     "hash": "d4fa038e427cc6dc569233f9f0eeb7dc2188fa7842e013a1cd573ec82a4de737"
    }
   }
  }
 },
 "nbformat": 4,
 "nbformat_minor": 2,
 "cells": [
  {
   "source": [
    "# Historical Constituent of S&P500\n",
    "\n",
    "Using Python by web scraping Wikipedia as it provides more historical data. [Reference](https://analyzingalpha.com/sp500-historical-components-and-changes)\n",
    "\n"
   ],
   "cell_type": "markdown",
   "metadata": {}
  },
  {
   "cell_type": "code",
   "execution_count": 1,
   "metadata": {},
   "outputs": [],
   "source": [
    "import pandas as pd\n",
    "import requests\n",
    "from datetime import datetime\n",
    "import numpy as np"
   ]
  },
  {
   "cell_type": "code",
   "execution_count": 2,
   "metadata": {},
   "outputs": [],
   "source": [
    "headers = {\n",
    "    'Accept': '*/*',\n",
    "    'Accept-Language': 'en-US,en;q=0.8',\n",
    "    'Cache-Control': 'max-age=0',\n",
    "    'User-Agent': 'Mozilla/5.0 (X11; Linux x86_64) AppleWebKit/537.36 (KHTML, like Gecko) Chrome/48.0.2564.116 Safari/537.36',\n",
    "    'Connection': 'keep-alive',\n",
    "    'Referer': 'http://www.baidu.com/'\n",
    "}\n",
    "# 设置本地代理\n",
    "proxies  =  {\n",
    "   \"http\" :  \"http://127.0.0.1:1080\" ,\n",
    "   \"https\" :  \"http://127.0.0.1:1080\" ,\n",
    "}\n",
    "\n",
    "url = 'https://en.wikipedia.org/wiki/List_of_S&P_500_companies'\n",
    "html = requests.get(url, headers=headers, proxies=proxies).content\n",
    "data = pd.read_html(html)"
   ]
  },
  {
   "cell_type": "code",
   "execution_count": 50,
   "metadata": {},
   "outputs": [
    {
     "output_type": "execute_result",
     "data": {
      "text/plain": "           date                    name      cik      variable value\n0    1964-03-31     Abbott Laboratories     1800  added_ticker   ABT\n1    2012-12-31             AbbVie Inc.  1551152  added_ticker  ABBV\n2    2018-05-31             ABIOMED Inc   815094  added_ticker  ABMD\n3    2011-07-06           Accenture plc  1467373  added_ticker   ACN\n4    2015-08-31     Activision Blizzard   718877  added_ticker  ATVI\n..          ...                     ...      ...           ...   ...\n499  1997-10-06         Yum! Brands Inc  1041061  added_ticker   YUM\n500  2019-12-23      Zebra Technologies   877212  added_ticker  ZBRA\n501  2001-08-07  Zimmer Biomet Holdings  1136869  added_ticker   ZBH\n502  2001-06-22           Zions Bancorp   109380  added_ticker  ZION\n503  2013-06-21                  Zoetis  1555280  added_ticker   ZTS\n\n[504 rows x 5 columns]",
      "text/html": "<div>\n<style scoped>\n    .dataframe tbody tr th:only-of-type {\n        vertical-align: middle;\n    }\n\n    .dataframe tbody tr th {\n        vertical-align: top;\n    }\n\n    .dataframe thead th {\n        text-align: right;\n    }\n</style>\n<table border=\"1\" class=\"dataframe\">\n  <thead>\n    <tr style=\"text-align: right;\">\n      <th></th>\n      <th>date</th>\n      <th>name</th>\n      <th>cik</th>\n      <th>variable</th>\n      <th>value</th>\n    </tr>\n  </thead>\n  <tbody>\n    <tr>\n      <th>0</th>\n      <td>1964-03-31</td>\n      <td>Abbott Laboratories</td>\n      <td>1800</td>\n      <td>added_ticker</td>\n      <td>ABT</td>\n    </tr>\n    <tr>\n      <th>1</th>\n      <td>2012-12-31</td>\n      <td>AbbVie Inc.</td>\n      <td>1551152</td>\n      <td>added_ticker</td>\n      <td>ABBV</td>\n    </tr>\n    <tr>\n      <th>2</th>\n      <td>2018-05-31</td>\n      <td>ABIOMED Inc</td>\n      <td>815094</td>\n      <td>added_ticker</td>\n      <td>ABMD</td>\n    </tr>\n    <tr>\n      <th>3</th>\n      <td>2011-07-06</td>\n      <td>Accenture plc</td>\n      <td>1467373</td>\n      <td>added_ticker</td>\n      <td>ACN</td>\n    </tr>\n    <tr>\n      <th>4</th>\n      <td>2015-08-31</td>\n      <td>Activision Blizzard</td>\n      <td>718877</td>\n      <td>added_ticker</td>\n      <td>ATVI</td>\n    </tr>\n    <tr>\n      <th>...</th>\n      <td>...</td>\n      <td>...</td>\n      <td>...</td>\n      <td>...</td>\n      <td>...</td>\n    </tr>\n    <tr>\n      <th>499</th>\n      <td>1997-10-06</td>\n      <td>Yum! Brands Inc</td>\n      <td>1041061</td>\n      <td>added_ticker</td>\n      <td>YUM</td>\n    </tr>\n    <tr>\n      <th>500</th>\n      <td>2019-12-23</td>\n      <td>Zebra Technologies</td>\n      <td>877212</td>\n      <td>added_ticker</td>\n      <td>ZBRA</td>\n    </tr>\n    <tr>\n      <th>501</th>\n      <td>2001-08-07</td>\n      <td>Zimmer Biomet Holdings</td>\n      <td>1136869</td>\n      <td>added_ticker</td>\n      <td>ZBH</td>\n    </tr>\n    <tr>\n      <th>502</th>\n      <td>2001-06-22</td>\n      <td>Zions Bancorp</td>\n      <td>109380</td>\n      <td>added_ticker</td>\n      <td>ZION</td>\n    </tr>\n    <tr>\n      <th>503</th>\n      <td>2013-06-21</td>\n      <td>Zoetis</td>\n      <td>1555280</td>\n      <td>added_ticker</td>\n      <td>ZTS</td>\n    </tr>\n  </tbody>\n</table>\n<p>504 rows × 5 columns</p>\n</div>"
     },
     "metadata": {},
     "execution_count": 50
    }
   ],
   "source": [
    "sp500 = data[0].iloc[1:,[0,1,6,7]]\n",
    "columns = ['added_ticker', 'name', 'date', 'cik']\n",
    "sp500.columns = columns\n",
    "sp500.loc[sp500['date'].isnull(), 'date'] = '1957-01-01'\n",
    "\n",
    "# One date is in the wrong format. Correcting it.\n",
    "sp500.loc[~sp500['date'].str.fullmatch(r'\\d{4}-\\d{2}-\\d{2}'), 'date'] = '1985-01-01'\n",
    "sp500.loc[:,'date'].apply(lambda x: datetime.strptime(x,'%Y-%m-%d'))\n",
    "sp500 = pd.melt(sp500, id_vars=['date', 'name', 'cik'], value_vars=['added_ticker'])\n",
    "sp500\n"
   ]
  },
  {
   "cell_type": "code",
   "execution_count": 66,
   "metadata": {
    "tags": []
   },
   "outputs": [
    {
     "output_type": "execute_result",
     "data": {
      "text/plain": "          date                   name        variable value\n0   2020-09-21              H&R Block  removed_ticker   HRB\n1   2020-09-21              Coty Inc.  removed_ticker  COTY\n2   2020-09-21           Kohl's Corp.  removed_ticker   KSS\n3   2020-06-22  Alliance Data Systems  removed_ticker   ADS\n4   2020-06-22        Harley-Davidson  removed_ticker   HOG\n..         ...                    ...             ...   ...\n248 2000-12-05    Symbol Technologies    added_ticker   SBL\n249 2000-12-05       Allegheny Energy    added_ticker   AYE\n250 2000-12-05        Ambac Financial    added_ticker   ABK\n251 2000-07-27           JDS Uniphase    added_ticker  JDSU\n252 1999-12-07                 Yahoo!    added_ticker  YHOO\n\n[501 rows x 4 columns]",
      "text/html": "<div>\n<style scoped>\n    .dataframe tbody tr th:only-of-type {\n        vertical-align: middle;\n    }\n\n    .dataframe tbody tr th {\n        vertical-align: top;\n    }\n\n    .dataframe thead th {\n        text-align: right;\n    }\n</style>\n<table border=\"1\" class=\"dataframe\">\n  <thead>\n    <tr style=\"text-align: right;\">\n      <th></th>\n      <th>date</th>\n      <th>name</th>\n      <th>variable</th>\n      <th>value</th>\n    </tr>\n  </thead>\n  <tbody>\n    <tr>\n      <th>0</th>\n      <td>2020-09-21</td>\n      <td>H&amp;R Block</td>\n      <td>removed_ticker</td>\n      <td>HRB</td>\n    </tr>\n    <tr>\n      <th>1</th>\n      <td>2020-09-21</td>\n      <td>Coty Inc.</td>\n      <td>removed_ticker</td>\n      <td>COTY</td>\n    </tr>\n    <tr>\n      <th>2</th>\n      <td>2020-09-21</td>\n      <td>Kohl's Corp.</td>\n      <td>removed_ticker</td>\n      <td>KSS</td>\n    </tr>\n    <tr>\n      <th>3</th>\n      <td>2020-06-22</td>\n      <td>Alliance Data Systems</td>\n      <td>removed_ticker</td>\n      <td>ADS</td>\n    </tr>\n    <tr>\n      <th>4</th>\n      <td>2020-06-22</td>\n      <td>Harley-Davidson</td>\n      <td>removed_ticker</td>\n      <td>HOG</td>\n    </tr>\n    <tr>\n      <th>...</th>\n      <td>...</td>\n      <td>...</td>\n      <td>...</td>\n      <td>...</td>\n    </tr>\n    <tr>\n      <th>248</th>\n      <td>2000-12-05</td>\n      <td>Symbol Technologies</td>\n      <td>added_ticker</td>\n      <td>SBL</td>\n    </tr>\n    <tr>\n      <th>249</th>\n      <td>2000-12-05</td>\n      <td>Allegheny Energy</td>\n      <td>added_ticker</td>\n      <td>AYE</td>\n    </tr>\n    <tr>\n      <th>250</th>\n      <td>2000-12-05</td>\n      <td>Ambac Financial</td>\n      <td>added_ticker</td>\n      <td>ABK</td>\n    </tr>\n    <tr>\n      <th>251</th>\n      <td>2000-07-27</td>\n      <td>JDS Uniphase</td>\n      <td>added_ticker</td>\n      <td>JDSU</td>\n    </tr>\n    <tr>\n      <th>252</th>\n      <td>1999-12-07</td>\n      <td>Yahoo!</td>\n      <td>added_ticker</td>\n      <td>YHOO</td>\n    </tr>\n  </tbody>\n</table>\n<p>501 rows × 4 columns</p>\n</div>"
     },
     "metadata": {},
     "execution_count": 66
    }
   ],
   "source": [
    "# Get S&P500 adjustments table and set columns\n",
    "sp500_adjustments = data[1]\n",
    "# sp500_adjustments = sp500_adjustments[2:].copy()\n",
    "columns = ['date', 'added_ticker', 'added_name', 'removed_ticker', 'removed_name', 'reason']\n",
    "sp500_adjustments.columns = columns\n",
    "updates = sp500_adjustments[~sp500_adjustments['date'].str.contains(',')].T.shift(1).T\n",
    "sp500_adjustments['date'].loc[~sp500_adjustments['date'].str.contains(',')] = np.nan\n",
    "sp500_adjustments[sp500_adjustments['added_ticker'].isnull()]\n",
    "sp500_adjustments.update(updates)\n",
    "sp500_adjustments['date'].loc[sp500_adjustments['date'].isnull()] = sp500_adjustments['date'].T.shift(1).T\n",
    "sp500_adjustments['date'].loc[sp500_adjustments['date'].isnull()] = sp500_adjustments['date'].T.shift(1).T\n",
    "sp500_adjustments['date'].loc[sp500_adjustments['date'].isnull()] = sp500_adjustments['date'].T.shift(1).T\n",
    "sp500_adjustments['date'].loc[sp500_adjustments['date'].isnull()] = sp500_adjustments['date'].T.shift(1).T\n",
    "sp500_adjustments['date'].loc[sp500_adjustments['date'].isnull()] = sp500_adjustments['date'].T.shift(1).T\n",
    "sp500_additions = sp500_adjustments[~sp500_adjustments['added_ticker'].isnull()]\n",
    "sp500_additions = sp500_additions[['date', 'added_ticker', 'added_name']]\n",
    "sp500_additions.rename(columns={'added_name': 'name'}, inplace=True)\n",
    "sp500_additions = pd.melt(sp500_additions, id_vars=['date','name'], value_vars=['added_ticker'])\n",
    "sp500_deletions = sp500_adjustments[~sp500_adjustments['removed_ticker'].isnull()]\n",
    "sp500_deletions = sp500_deletions[['date', 'removed_ticker', 'removed_name']]\n",
    "sp500_deletions.rename(columns={'removed_name': 'name'}, inplace=True)\n",
    "sp500_deletions = pd.melt(sp500_deletions, id_vars=['date','name'], value_vars=['removed_ticker'])\n",
    "sp500_history = pd.concat([sp500_deletions, sp500_additions])\n",
    "\n",
    "# 将日期转换为 \"%Y-%m-%d\" 的格式\n",
    "sp500_history['date'] = sp500_history.loc[:, 'date'].apply(lambda x: datetime.strptime(datetime.strptime(x,'%B %d, %Y').strftime('%Y-%m-%d'), '%Y-%m-%d'))\n",
    "sp500_history"
   ]
  },
  {
   "cell_type": "code",
   "execution_count": 68,
   "metadata": {
    "tags": []
   },
   "outputs": [
    {
     "output_type": "stream",
     "name": "stdout",
     "text": "          date                   name        cik      variable value\n239 1957-01-01  Huntington Bancshares    49196.0  added_ticker  HBAN\n405 1957-01-01       S&P Global, Inc.    64040.0  added_ticker  SPGI\n162 1957-01-01              eBay Inc.  1065088.0  added_ticker  EBAY\n465 1957-01-01          Valero Energy  1035002.0  added_ticker   VLO\n306 1957-01-01        McCormick & Co.    63754.0  added_ticker   MKC\n"
    }
   ],
   "source": [
    "df = pd.concat([sp500, sp500_history], ignore_index=True)\n",
    "df['date'] = pd.to_datetime(df['date'])\n",
    "df.sort_values(by='cik', ascending=False, inplace=True)\n",
    "deduped_df = df[~df.duplicated(['date', 'variable', 'value'])].copy()\n",
    "deduped_df.sort_values(by='date',inplace=True)\n",
    "deduped_df.to_csv(\"sp500_history.csv\", index = False)\n",
    "print(deduped_df.head())"
   ]
  },
  {
   "source": [
    "# Constituent File of S&P500 from 1990 to 2018"
   ],
   "cell_type": "markdown",
   "metadata": {}
  },
  {
   "cell_type": "code",
   "execution_count": null,
   "metadata": {},
   "outputs": [],
   "source": [
    "import pandas as pd\n",
    "from datetime import datetime\n",
    "import numpy as np\n",
    "import calendar"
   ]
  },
  {
   "cell_type": "code",
   "execution_count": 35,
   "metadata": {},
   "outputs": [
    {
     "output_type": "execute_result",
     "data": {
      "text/plain": [
       "           date                           name        cik        variable  \\\n",
       "0    1957-01-01          Huntington Bancshares    49196.0    added_ticker   \n",
       "1    1957-01-01               S&P Global, Inc.    64040.0    added_ticker   \n",
       "2    1957-01-01                      eBay Inc.  1065088.0    added_ticker   \n",
       "3    1957-01-01                  Valero Energy  1035002.0    added_ticker   \n",
       "4    1957-01-01                McCormick & Co.    63754.0    added_ticker   \n",
       "..          ...                            ...        ...             ...   \n",
       "793  2018-12-03                      Aetna Inc        NaN  removed_ticker   \n",
       "794  2018-12-03               Rockwell Collins        NaN  removed_ticker   \n",
       "795  2018-12-03  Maxim Integrated Products Inc   743316.0    added_ticker   \n",
       "796  2018-12-24                       Celanese  1306830.0    added_ticker   \n",
       "797  2018-12-24                Express Scripts        NaN  removed_ticker   \n",
       "\n",
       "    value  \n",
       "0    HBAN  \n",
       "1    SPGI  \n",
       "2    EBAY  \n",
       "3     VLO  \n",
       "4     MKC  \n",
       "..    ...  \n",
       "793   AET  \n",
       "794   COL  \n",
       "795  MXIM  \n",
       "796    CE  \n",
       "797  ESRX  \n",
       "\n",
       "[798 rows x 5 columns]"
      ],
      "text/html": "<div>\n<style scoped>\n    .dataframe tbody tr th:only-of-type {\n        vertical-align: middle;\n    }\n\n    .dataframe tbody tr th {\n        vertical-align: top;\n    }\n\n    .dataframe thead th {\n        text-align: right;\n    }\n</style>\n<table border=\"1\" class=\"dataframe\">\n  <thead>\n    <tr style=\"text-align: right;\">\n      <th></th>\n      <th>date</th>\n      <th>name</th>\n      <th>cik</th>\n      <th>variable</th>\n      <th>value</th>\n    </tr>\n  </thead>\n  <tbody>\n    <tr>\n      <th>0</th>\n      <td>1957-01-01</td>\n      <td>Huntington Bancshares</td>\n      <td>49196.0</td>\n      <td>added_ticker</td>\n      <td>HBAN</td>\n    </tr>\n    <tr>\n      <th>1</th>\n      <td>1957-01-01</td>\n      <td>S&amp;P Global, Inc.</td>\n      <td>64040.0</td>\n      <td>added_ticker</td>\n      <td>SPGI</td>\n    </tr>\n    <tr>\n      <th>2</th>\n      <td>1957-01-01</td>\n      <td>eBay Inc.</td>\n      <td>1065088.0</td>\n      <td>added_ticker</td>\n      <td>EBAY</td>\n    </tr>\n    <tr>\n      <th>3</th>\n      <td>1957-01-01</td>\n      <td>Valero Energy</td>\n      <td>1035002.0</td>\n      <td>added_ticker</td>\n      <td>VLO</td>\n    </tr>\n    <tr>\n      <th>4</th>\n      <td>1957-01-01</td>\n      <td>McCormick &amp; Co.</td>\n      <td>63754.0</td>\n      <td>added_ticker</td>\n      <td>MKC</td>\n    </tr>\n    <tr>\n      <th>...</th>\n      <td>...</td>\n      <td>...</td>\n      <td>...</td>\n      <td>...</td>\n      <td>...</td>\n    </tr>\n    <tr>\n      <th>793</th>\n      <td>2018-12-03</td>\n      <td>Aetna Inc</td>\n      <td>NaN</td>\n      <td>removed_ticker</td>\n      <td>AET</td>\n    </tr>\n    <tr>\n      <th>794</th>\n      <td>2018-12-03</td>\n      <td>Rockwell Collins</td>\n      <td>NaN</td>\n      <td>removed_ticker</td>\n      <td>COL</td>\n    </tr>\n    <tr>\n      <th>795</th>\n      <td>2018-12-03</td>\n      <td>Maxim Integrated Products Inc</td>\n      <td>743316.0</td>\n      <td>added_ticker</td>\n      <td>MXIM</td>\n    </tr>\n    <tr>\n      <th>796</th>\n      <td>2018-12-24</td>\n      <td>Celanese</td>\n      <td>1306830.0</td>\n      <td>added_ticker</td>\n      <td>CE</td>\n    </tr>\n    <tr>\n      <th>797</th>\n      <td>2018-12-24</td>\n      <td>Express Scripts</td>\n      <td>NaN</td>\n      <td>removed_ticker</td>\n      <td>ESRX</td>\n    </tr>\n  </tbody>\n</table>\n<p>798 rows × 5 columns</p>\n</div>"
     },
     "metadata": {},
     "execution_count": 35
    }
   ],
   "source": [
    "start = '1957-01-01'\n",
    "end = '2018-12-31'\n",
    "sp500_history = pd.read_csv('./sp500_history.csv')\n",
    "sub_array = np.logical_and(sp500_history['date'] >= start, sp500_history['date'] <= end)\n",
    "sp500_history = sp500_history.loc[sub_array, :]\n",
    "sp500_history"
   ]
  },
  {
   "cell_type": "code",
   "execution_count": 36,
   "metadata": {},
   "outputs": [],
   "source": [
    "# 生成指定日期范围内的日期列表\n",
    "from dateutil.relativedelta import relativedelta\n",
    "t1 = datetime.strptime('1957-01', '%Y-%m')\n",
    "t2 = datetime.strptime('2018-12', '%Y-%m')\n",
    "monthList = []\n",
    "while(t1 <= t2):\n",
    "    monthList.append(t1)\n",
    "    t1 += relativedelta(months = 1)"
   ]
  },
  {
   "cell_type": "code",
   "execution_count": 37,
   "metadata": {},
   "outputs": [],
   "source": [
    "SPXconst_dict = {}\n",
    "stocks = []\n",
    "for mon in monthList:\n",
    "    # 获取当前月份的第一天日期和最后一天日期\n",
    "    monStart = datetime(mon.year, mon.month, 1).strftime(('%Y-%m-%d'))\n",
    "    monEnd = datetime(mon.year, mon.month, calendar.monthrange(mon.year, mon.month)[1]).strftime(('%Y-%m-%d'))\n",
    "    # 获取日期范围内的股票信息\n",
    "    sub_array = np.logical_and(sp500_history['date'] >= monStart, sp500_history['date'] <= monEnd)\n",
    "    sp500_now = sp500_history.loc[sub_array, :]\n",
    "    sp500_history = sp500_history.loc[~sub_array, :]\n",
    "    # 获取新加入和移除的股票名称\n",
    "    sub_added = np.array(sp500_now['variable'] == 'added_ticker')\n",
    "    sub_removed = np.array(sp500_now['variable'] == 'removed_ticker')\n",
    "    stocks_added = sp500_now.loc[sub_added, :]['value'].tolist()\n",
    "    stocks_removed = sp500_now.loc[sub_removed, :]['value'].tolist()\n",
    "\n",
    "    # 将新加入的股票放入stocks中\n",
    "    for stock_add in stocks_added:\n",
    "        if stock_add not in stocks:\n",
    "            stocks.append(stock_add)\n",
    "\n",
    "    # 移除相应股票\n",
    "    for stock_remove in stocks_removed:\n",
    "        if stock_remove in stocks:\n",
    "            stocks.remove(stock_remove)\n",
    "    \n",
    "\n",
    "    # 将有效范围日期的数据放入字典\n",
    "    if(monStart >= '1990-01-01' and monStart <= '2018-12-31'):\n",
    "        mon = mon.strftime(\"%m/%Y\")\n",
    "        # 此处要新生成一个list或者np.array，否则对应的value值都会指向最后生成的stocks\n",
    "        SPXconst_dict[mon] = np.array(stocks)\n",
    "\n"
   ]
  },
  {
   "cell_type": "code",
   "execution_count": 38,
   "metadata": {},
   "outputs": [],
   "source": [
    "SPXconst = pd.DataFrame(dict([(k, pd.Series(v)) for k, v in SPXconst_dict.items()]))\n",
    "SPXconst.to_csv('SPXconst.csv', index=False)"
   ]
  },
  {
   "source": [
    "# S&P500 Price Data\n",
    "\n",
    "Using the scraped list of S&P500 firms, I downloaded the price data for each firms into 505 csv files with the Quandl api. [Reference](https://github.com/imhgchoi/ARIMA-LSTM-hybrid-corrcoef-predict/blob/master/Data_Scraping_Codes.ipynb)"
   ],
   "cell_type": "markdown",
   "metadata": {}
  },
  {
   "cell_type": "code",
   "execution_count": 1,
   "metadata": {},
   "outputs": [],
   "source": [
    "import quandl\n",
    "import os\n",
    "import pandas as pd\n",
    "from datetime import datetime\n",
    "import numpy as np\n",
    "import calendar"
   ]
  },
  {
   "cell_type": "code",
   "execution_count": 3,
   "metadata": {},
   "outputs": [
    {
     "output_type": "execute_result",
     "data": {
      "text/plain": [
       "    01/1990 02/1990 03/1990 04/1990 05/1990 06/1990 07/1990 08/1990 09/1990  \\\n",
       "0      HBAN    HBAN    HBAN    HBAN    HBAN    HBAN    HBAN    HBAN    HBAN   \n",
       "1      SPGI    SPGI    SPGI    SPGI    SPGI    SPGI    SPGI    SPGI    SPGI   \n",
       "2      EBAY    EBAY    EBAY    EBAY    EBAY    EBAY    EBAY    EBAY    EBAY   \n",
       "3       VLO     VLO     VLO     VLO     VLO     VLO     VLO     VLO     VLO   \n",
       "4       MKC     MKC     MKC     MKC     MKC     MKC     MKC     MKC     MKC   \n",
       "..      ...     ...     ...     ...     ...     ...     ...     ...     ...   \n",
       "488     NaN     NaN     NaN     NaN     NaN     NaN     NaN     NaN     NaN   \n",
       "489     NaN     NaN     NaN     NaN     NaN     NaN     NaN     NaN     NaN   \n",
       "490     NaN     NaN     NaN     NaN     NaN     NaN     NaN     NaN     NaN   \n",
       "491     NaN     NaN     NaN     NaN     NaN     NaN     NaN     NaN     NaN   \n",
       "492     NaN     NaN     NaN     NaN     NaN     NaN     NaN     NaN     NaN   \n",
       "\n",
       "    10/1990  ... 03/2018 04/2018 05/2018 06/2018 07/2018 08/2018 09/2018  \\\n",
       "0      HBAN  ...    HBAN    HBAN    HBAN    HBAN    HBAN    HBAN    HBAN   \n",
       "1      SPGI  ...    SPGI    SPGI    SPGI    SPGI    SPGI    SPGI    SPGI   \n",
       "2      EBAY  ...    EBAY    EBAY    EBAY    EBAY    EBAY    EBAY    EBAY   \n",
       "3       VLO  ...     VLO     VLO     VLO     VLO     VLO     VLO     VLO   \n",
       "4       MKC  ...     MKC     MKC     MKC     MKC     MKC     MKC     MKC   \n",
       "..      ...  ...     ...     ...     ...     ...     ...     ...     ...   \n",
       "488     NaN  ...     NaN     NaN     NaN     NaN     NaN     NaN     NaN   \n",
       "489     NaN  ...     NaN     NaN     NaN     NaN     NaN     NaN     NaN   \n",
       "490     NaN  ...     NaN     NaN     NaN     NaN     NaN     NaN     NaN   \n",
       "491     NaN  ...     NaN     NaN     NaN     NaN     NaN     NaN     NaN   \n",
       "492     NaN  ...     NaN     NaN     NaN     NaN     NaN     NaN     NaN   \n",
       "\n",
       "    10/2018 11/2018 12/2018  \n",
       "0      HBAN    HBAN    HBAN  \n",
       "1      SPGI    SPGI    SPGI  \n",
       "2      EBAY    EBAY    EBAY  \n",
       "3       VLO     VLO     VLO  \n",
       "4       MKC     MKC     MKC  \n",
       "..      ...     ...     ...  \n",
       "488     NaN    KEYS    JKHY  \n",
       "489     NaN    JKHY    FANG  \n",
       "490     NaN     NaN      LW  \n",
       "491     NaN     NaN    MXIM  \n",
       "492     NaN     NaN      CE  \n",
       "\n",
       "[493 rows x 348 columns]"
      ],
      "text/html": "<div>\n<style scoped>\n    .dataframe tbody tr th:only-of-type {\n        vertical-align: middle;\n    }\n\n    .dataframe tbody tr th {\n        vertical-align: top;\n    }\n\n    .dataframe thead th {\n        text-align: right;\n    }\n</style>\n<table border=\"1\" class=\"dataframe\">\n  <thead>\n    <tr style=\"text-align: right;\">\n      <th></th>\n      <th>01/1990</th>\n      <th>02/1990</th>\n      <th>03/1990</th>\n      <th>04/1990</th>\n      <th>05/1990</th>\n      <th>06/1990</th>\n      <th>07/1990</th>\n      <th>08/1990</th>\n      <th>09/1990</th>\n      <th>10/1990</th>\n      <th>...</th>\n      <th>03/2018</th>\n      <th>04/2018</th>\n      <th>05/2018</th>\n      <th>06/2018</th>\n      <th>07/2018</th>\n      <th>08/2018</th>\n      <th>09/2018</th>\n      <th>10/2018</th>\n      <th>11/2018</th>\n      <th>12/2018</th>\n    </tr>\n  </thead>\n  <tbody>\n    <tr>\n      <th>0</th>\n      <td>HBAN</td>\n      <td>HBAN</td>\n      <td>HBAN</td>\n      <td>HBAN</td>\n      <td>HBAN</td>\n      <td>HBAN</td>\n      <td>HBAN</td>\n      <td>HBAN</td>\n      <td>HBAN</td>\n      <td>HBAN</td>\n      <td>...</td>\n      <td>HBAN</td>\n      <td>HBAN</td>\n      <td>HBAN</td>\n      <td>HBAN</td>\n      <td>HBAN</td>\n      <td>HBAN</td>\n      <td>HBAN</td>\n      <td>HBAN</td>\n      <td>HBAN</td>\n      <td>HBAN</td>\n    </tr>\n    <tr>\n      <th>1</th>\n      <td>SPGI</td>\n      <td>SPGI</td>\n      <td>SPGI</td>\n      <td>SPGI</td>\n      <td>SPGI</td>\n      <td>SPGI</td>\n      <td>SPGI</td>\n      <td>SPGI</td>\n      <td>SPGI</td>\n      <td>SPGI</td>\n      <td>...</td>\n      <td>SPGI</td>\n      <td>SPGI</td>\n      <td>SPGI</td>\n      <td>SPGI</td>\n      <td>SPGI</td>\n      <td>SPGI</td>\n      <td>SPGI</td>\n      <td>SPGI</td>\n      <td>SPGI</td>\n      <td>SPGI</td>\n    </tr>\n    <tr>\n      <th>2</th>\n      <td>EBAY</td>\n      <td>EBAY</td>\n      <td>EBAY</td>\n      <td>EBAY</td>\n      <td>EBAY</td>\n      <td>EBAY</td>\n      <td>EBAY</td>\n      <td>EBAY</td>\n      <td>EBAY</td>\n      <td>EBAY</td>\n      <td>...</td>\n      <td>EBAY</td>\n      <td>EBAY</td>\n      <td>EBAY</td>\n      <td>EBAY</td>\n      <td>EBAY</td>\n      <td>EBAY</td>\n      <td>EBAY</td>\n      <td>EBAY</td>\n      <td>EBAY</td>\n      <td>EBAY</td>\n    </tr>\n    <tr>\n      <th>3</th>\n      <td>VLO</td>\n      <td>VLO</td>\n      <td>VLO</td>\n      <td>VLO</td>\n      <td>VLO</td>\n      <td>VLO</td>\n      <td>VLO</td>\n      <td>VLO</td>\n      <td>VLO</td>\n      <td>VLO</td>\n      <td>...</td>\n      <td>VLO</td>\n      <td>VLO</td>\n      <td>VLO</td>\n      <td>VLO</td>\n      <td>VLO</td>\n      <td>VLO</td>\n      <td>VLO</td>\n      <td>VLO</td>\n      <td>VLO</td>\n      <td>VLO</td>\n    </tr>\n    <tr>\n      <th>4</th>\n      <td>MKC</td>\n      <td>MKC</td>\n      <td>MKC</td>\n      <td>MKC</td>\n      <td>MKC</td>\n      <td>MKC</td>\n      <td>MKC</td>\n      <td>MKC</td>\n      <td>MKC</td>\n      <td>MKC</td>\n      <td>...</td>\n      <td>MKC</td>\n      <td>MKC</td>\n      <td>MKC</td>\n      <td>MKC</td>\n      <td>MKC</td>\n      <td>MKC</td>\n      <td>MKC</td>\n      <td>MKC</td>\n      <td>MKC</td>\n      <td>MKC</td>\n    </tr>\n    <tr>\n      <th>...</th>\n      <td>...</td>\n      <td>...</td>\n      <td>...</td>\n      <td>...</td>\n      <td>...</td>\n      <td>...</td>\n      <td>...</td>\n      <td>...</td>\n      <td>...</td>\n      <td>...</td>\n      <td>...</td>\n      <td>...</td>\n      <td>...</td>\n      <td>...</td>\n      <td>...</td>\n      <td>...</td>\n      <td>...</td>\n      <td>...</td>\n      <td>...</td>\n      <td>...</td>\n      <td>...</td>\n    </tr>\n    <tr>\n      <th>488</th>\n      <td>NaN</td>\n      <td>NaN</td>\n      <td>NaN</td>\n      <td>NaN</td>\n      <td>NaN</td>\n      <td>NaN</td>\n      <td>NaN</td>\n      <td>NaN</td>\n      <td>NaN</td>\n      <td>NaN</td>\n      <td>...</td>\n      <td>NaN</td>\n      <td>NaN</td>\n      <td>NaN</td>\n      <td>NaN</td>\n      <td>NaN</td>\n      <td>NaN</td>\n      <td>NaN</td>\n      <td>NaN</td>\n      <td>KEYS</td>\n      <td>JKHY</td>\n    </tr>\n    <tr>\n      <th>489</th>\n      <td>NaN</td>\n      <td>NaN</td>\n      <td>NaN</td>\n      <td>NaN</td>\n      <td>NaN</td>\n      <td>NaN</td>\n      <td>NaN</td>\n      <td>NaN</td>\n      <td>NaN</td>\n      <td>NaN</td>\n      <td>...</td>\n      <td>NaN</td>\n      <td>NaN</td>\n      <td>NaN</td>\n      <td>NaN</td>\n      <td>NaN</td>\n      <td>NaN</td>\n      <td>NaN</td>\n      <td>NaN</td>\n      <td>JKHY</td>\n      <td>FANG</td>\n    </tr>\n    <tr>\n      <th>490</th>\n      <td>NaN</td>\n      <td>NaN</td>\n      <td>NaN</td>\n      <td>NaN</td>\n      <td>NaN</td>\n      <td>NaN</td>\n      <td>NaN</td>\n      <td>NaN</td>\n      <td>NaN</td>\n      <td>NaN</td>\n      <td>...</td>\n      <td>NaN</td>\n      <td>NaN</td>\n      <td>NaN</td>\n      <td>NaN</td>\n      <td>NaN</td>\n      <td>NaN</td>\n      <td>NaN</td>\n      <td>NaN</td>\n      <td>NaN</td>\n      <td>LW</td>\n    </tr>\n    <tr>\n      <th>491</th>\n      <td>NaN</td>\n      <td>NaN</td>\n      <td>NaN</td>\n      <td>NaN</td>\n      <td>NaN</td>\n      <td>NaN</td>\n      <td>NaN</td>\n      <td>NaN</td>\n      <td>NaN</td>\n      <td>NaN</td>\n      <td>...</td>\n      <td>NaN</td>\n      <td>NaN</td>\n      <td>NaN</td>\n      <td>NaN</td>\n      <td>NaN</td>\n      <td>NaN</td>\n      <td>NaN</td>\n      <td>NaN</td>\n      <td>NaN</td>\n      <td>MXIM</td>\n    </tr>\n    <tr>\n      <th>492</th>\n      <td>NaN</td>\n      <td>NaN</td>\n      <td>NaN</td>\n      <td>NaN</td>\n      <td>NaN</td>\n      <td>NaN</td>\n      <td>NaN</td>\n      <td>NaN</td>\n      <td>NaN</td>\n      <td>NaN</td>\n      <td>...</td>\n      <td>NaN</td>\n      <td>NaN</td>\n      <td>NaN</td>\n      <td>NaN</td>\n      <td>NaN</td>\n      <td>NaN</td>\n      <td>NaN</td>\n      <td>NaN</td>\n      <td>NaN</td>\n      <td>CE</td>\n    </tr>\n  </tbody>\n</table>\n<p>493 rows × 348 columns</p>\n</div>"
     },
     "metadata": {},
     "execution_count": 3
    }
   ],
   "source": [
    "file_exceptions = \"exceptions.txt\"\n",
    "tickers = pd.read_csv('SPXconst.csv')\n",
    "tickers"
   ]
  },
  {
   "cell_type": "code",
   "execution_count": 18,
   "metadata": {},
   "outputs": [],
   "source": [
    "data_open1, data_close1 = getInfo(\"HBAN\", \"1999-01-01\", \"1999-01-25\")\n",
    "data_open2, data_close2 = getInfo(\"EBAY\", \"1999-01-01\", \"1999-01-30\")\n",
    "data_open3, data_close3 = getInfo(\"EBAY\", \"1999-02-01\", \"1999-02-11\")"
   ]
  },
  {
   "cell_type": "code",
   "execution_count": 19,
   "metadata": {},
   "outputs": [
    {
     "output_type": "execute_result",
     "data": {
      "text/plain": [
       "             HBAN   EBAY\n",
       "Date                    \n",
       "1999-01-04  30.06  236.4\n",
       "1999-01-05  29.94  228.1\n",
       "1999-01-06  30.81  234.0\n",
       "1999-01-07  31.44  272.1\n",
       "1999-01-08  30.50  315.0\n",
       "1999-01-11  31.13  304.1\n",
       "1999-01-12  31.50  280.0\n",
       "1999-01-13  31.00  218.0\n",
       "1999-01-14  31.50  224.5\n",
       "1999-01-15  31.13  227.5\n",
       "1999-01-19  31.81  247.5\n",
       "1999-01-20  31.63  229.6\n",
       "1999-01-21  31.13  197.0\n",
       "1999-01-22  31.63  166.0\n",
       "1999-01-25  31.38  200.0\n",
       "1999-01-26    NaN  219.0\n",
       "1999-01-27    NaN  304.0\n",
       "1999-01-28    NaN  304.0\n",
       "1999-01-29    NaN  286.0"
      ],
      "text/html": "<div>\n<style scoped>\n    .dataframe tbody tr th:only-of-type {\n        vertical-align: middle;\n    }\n\n    .dataframe tbody tr th {\n        vertical-align: top;\n    }\n\n    .dataframe thead th {\n        text-align: right;\n    }\n</style>\n<table border=\"1\" class=\"dataframe\">\n  <thead>\n    <tr style=\"text-align: right;\">\n      <th></th>\n      <th>HBAN</th>\n      <th>EBAY</th>\n    </tr>\n    <tr>\n      <th>Date</th>\n      <th></th>\n      <th></th>\n    </tr>\n  </thead>\n  <tbody>\n    <tr>\n      <th>1999-01-04</th>\n      <td>30.06</td>\n      <td>236.4</td>\n    </tr>\n    <tr>\n      <th>1999-01-05</th>\n      <td>29.94</td>\n      <td>228.1</td>\n    </tr>\n    <tr>\n      <th>1999-01-06</th>\n      <td>30.81</td>\n      <td>234.0</td>\n    </tr>\n    <tr>\n      <th>1999-01-07</th>\n      <td>31.44</td>\n      <td>272.1</td>\n    </tr>\n    <tr>\n      <th>1999-01-08</th>\n      <td>30.50</td>\n      <td>315.0</td>\n    </tr>\n    <tr>\n      <th>1999-01-11</th>\n      <td>31.13</td>\n      <td>304.1</td>\n    </tr>\n    <tr>\n      <th>1999-01-12</th>\n      <td>31.50</td>\n      <td>280.0</td>\n    </tr>\n    <tr>\n      <th>1999-01-13</th>\n      <td>31.00</td>\n      <td>218.0</td>\n    </tr>\n    <tr>\n      <th>1999-01-14</th>\n      <td>31.50</td>\n      <td>224.5</td>\n    </tr>\n    <tr>\n      <th>1999-01-15</th>\n      <td>31.13</td>\n      <td>227.5</td>\n    </tr>\n    <tr>\n      <th>1999-01-19</th>\n      <td>31.81</td>\n      <td>247.5</td>\n    </tr>\n    <tr>\n      <th>1999-01-20</th>\n      <td>31.63</td>\n      <td>229.6</td>\n    </tr>\n    <tr>\n      <th>1999-01-21</th>\n      <td>31.13</td>\n      <td>197.0</td>\n    </tr>\n    <tr>\n      <th>1999-01-22</th>\n      <td>31.63</td>\n      <td>166.0</td>\n    </tr>\n    <tr>\n      <th>1999-01-25</th>\n      <td>31.38</td>\n      <td>200.0</td>\n    </tr>\n    <tr>\n      <th>1999-01-26</th>\n      <td>NaN</td>\n      <td>219.0</td>\n    </tr>\n    <tr>\n      <th>1999-01-27</th>\n      <td>NaN</td>\n      <td>304.0</td>\n    </tr>\n    <tr>\n      <th>1999-01-28</th>\n      <td>NaN</td>\n      <td>304.0</td>\n    </tr>\n    <tr>\n      <th>1999-01-29</th>\n      <td>NaN</td>\n      <td>286.0</td>\n    </tr>\n  </tbody>\n</table>\n</div>"
     },
     "metadata": {},
     "execution_count": 19
    }
   ],
   "source": [
    "a = pd.concat([data_open1, data_open2], axis=1)\n",
    "a"
   ]
  },
  {
   "cell_type": "code",
   "execution_count": 22,
   "metadata": {},
   "outputs": [
    {
     "output_type": "execute_result",
     "data": {
      "text/plain": [
       "             HBAN   EBAY\n",
       "Date                    \n",
       "1999-01-04  30.06  236.4\n",
       "1999-01-05  29.94  228.1\n",
       "1999-01-06  30.81  234.0\n",
       "1999-01-07  31.44  272.1\n",
       "1999-01-08  30.50  315.0\n",
       "1999-01-11  31.13  304.1\n",
       "1999-01-12  31.50  280.0\n",
       "1999-01-13  31.00  218.0\n",
       "1999-01-14  31.50  224.5\n",
       "1999-01-15  31.13  227.5\n",
       "1999-01-19  31.81  247.5\n",
       "1999-01-20  31.63  229.6\n",
       "1999-01-21  31.13  197.0\n",
       "1999-01-22  31.63  166.0\n",
       "1999-01-25  31.38  200.0\n",
       "1999-01-26    NaN  219.0\n",
       "1999-01-27    NaN  304.0\n",
       "1999-01-28    NaN  304.0\n",
       "1999-01-29    NaN  286.0\n",
       "1999-02-01    NaN  279.0\n",
       "1999-02-02    NaN  260.1\n",
       "1999-02-03    NaN  249.0\n",
       "1999-02-04    NaN  274.0\n",
       "1999-02-05    NaN  245.5\n",
       "1999-02-08    NaN  230.0\n",
       "1999-02-09    NaN  231.0\n",
       "1999-02-10    NaN  209.9\n",
       "1999-02-11    NaN  219.3"
      ],
      "text/html": "<div>\n<style scoped>\n    .dataframe tbody tr th:only-of-type {\n        vertical-align: middle;\n    }\n\n    .dataframe tbody tr th {\n        vertical-align: top;\n    }\n\n    .dataframe thead th {\n        text-align: right;\n    }\n</style>\n<table border=\"1\" class=\"dataframe\">\n  <thead>\n    <tr style=\"text-align: right;\">\n      <th></th>\n      <th>HBAN</th>\n      <th>EBAY</th>\n    </tr>\n    <tr>\n      <th>Date</th>\n      <th></th>\n      <th></th>\n    </tr>\n  </thead>\n  <tbody>\n    <tr>\n      <th>1999-01-04</th>\n      <td>30.06</td>\n      <td>236.4</td>\n    </tr>\n    <tr>\n      <th>1999-01-05</th>\n      <td>29.94</td>\n      <td>228.1</td>\n    </tr>\n    <tr>\n      <th>1999-01-06</th>\n      <td>30.81</td>\n      <td>234.0</td>\n    </tr>\n    <tr>\n      <th>1999-01-07</th>\n      <td>31.44</td>\n      <td>272.1</td>\n    </tr>\n    <tr>\n      <th>1999-01-08</th>\n      <td>30.50</td>\n      <td>315.0</td>\n    </tr>\n    <tr>\n      <th>1999-01-11</th>\n      <td>31.13</td>\n      <td>304.1</td>\n    </tr>\n    <tr>\n      <th>1999-01-12</th>\n      <td>31.50</td>\n      <td>280.0</td>\n    </tr>\n    <tr>\n      <th>1999-01-13</th>\n      <td>31.00</td>\n      <td>218.0</td>\n    </tr>\n    <tr>\n      <th>1999-01-14</th>\n      <td>31.50</td>\n      <td>224.5</td>\n    </tr>\n    <tr>\n      <th>1999-01-15</th>\n      <td>31.13</td>\n      <td>227.5</td>\n    </tr>\n    <tr>\n      <th>1999-01-19</th>\n      <td>31.81</td>\n      <td>247.5</td>\n    </tr>\n    <tr>\n      <th>1999-01-20</th>\n      <td>31.63</td>\n      <td>229.6</td>\n    </tr>\n    <tr>\n      <th>1999-01-21</th>\n      <td>31.13</td>\n      <td>197.0</td>\n    </tr>\n    <tr>\n      <th>1999-01-22</th>\n      <td>31.63</td>\n      <td>166.0</td>\n    </tr>\n    <tr>\n      <th>1999-01-25</th>\n      <td>31.38</td>\n      <td>200.0</td>\n    </tr>\n    <tr>\n      <th>1999-01-26</th>\n      <td>NaN</td>\n      <td>219.0</td>\n    </tr>\n    <tr>\n      <th>1999-01-27</th>\n      <td>NaN</td>\n      <td>304.0</td>\n    </tr>\n    <tr>\n      <th>1999-01-28</th>\n      <td>NaN</td>\n      <td>304.0</td>\n    </tr>\n    <tr>\n      <th>1999-01-29</th>\n      <td>NaN</td>\n      <td>286.0</td>\n    </tr>\n    <tr>\n      <th>1999-02-01</th>\n      <td>NaN</td>\n      <td>279.0</td>\n    </tr>\n    <tr>\n      <th>1999-02-02</th>\n      <td>NaN</td>\n      <td>260.1</td>\n    </tr>\n    <tr>\n      <th>1999-02-03</th>\n      <td>NaN</td>\n      <td>249.0</td>\n    </tr>\n    <tr>\n      <th>1999-02-04</th>\n      <td>NaN</td>\n      <td>274.0</td>\n    </tr>\n    <tr>\n      <th>1999-02-05</th>\n      <td>NaN</td>\n      <td>245.5</td>\n    </tr>\n    <tr>\n      <th>1999-02-08</th>\n      <td>NaN</td>\n      <td>230.0</td>\n    </tr>\n    <tr>\n      <th>1999-02-09</th>\n      <td>NaN</td>\n      <td>231.0</td>\n    </tr>\n    <tr>\n      <th>1999-02-10</th>\n      <td>NaN</td>\n      <td>209.9</td>\n    </tr>\n    <tr>\n      <th>1999-02-11</th>\n      <td>NaN</td>\n      <td>219.3</td>\n    </tr>\n  </tbody>\n</table>\n</div>"
     },
     "metadata": {},
     "execution_count": 22
    }
   ],
   "source": [
    "b = pd.concat([a, pd.DataFrame(data_open3)])\n",
    "b"
   ]
  },
  {
   "cell_type": "code",
   "execution_count": 23,
   "metadata": {},
   "outputs": [],
   "source": [
    "b.to_csv('b.csv')"
   ]
  },
  {
   "cell_type": "code",
   "execution_count": 28,
   "metadata": {},
   "outputs": [],
   "source": [
    "c = pd.DataFrame()\n",
    "c = pd.concat([c, b], join='outer', axis=0)\n",
    "c.to_csv('c.csv')"
   ]
  },
  {
   "cell_type": "code",
   "execution_count": 7,
   "metadata": {},
   "outputs": [],
   "source": [
    "API_KEY = '95NJZYJYyXToregziQw8'\n",
    "\n",
    "# 获取股票的开盘价和收尾价\n",
    "def getInfo(ticker, start_date, end_date):\n",
    "    data = quandl.get(\"WIKI/{}\".format(ticker.replace(\".\",\"_\")), start_date=start_date, end_date=end_date, api_key=API_KEY)\n",
    "    data = data.loc[:, ['Open', 'Close']]\n",
    "\n",
    "    return data['Open'].rename(ticker, inplace=True), data['Close'].rename(ticker, inplace=True)"
   ]
  },
  {
   "cell_type": "code",
   "execution_count": 5,
   "metadata": {},
   "outputs": [],
   "source": [
    "def main():\n",
    "    years = [str(x) for x in range(1999, 2019)]\n",
    "\n",
    "    for year in years:\n",
    "        tickers_open = pd.DataFrame()\n",
    "        tickers_close = pd.DataFrame()\n",
    "\n",
    "        months = [(\"{:02d}\".format(x) + '/' + year) for x in range(1, 13)]\n",
    "        for month in months:\n",
    "            # 获取日期信息，以及所有的股票名称\n",
    "            month_str = month\n",
    "            month = datetime.strptime(month, \"%m/%Y\") # 转换成时间戳\n",
    "            monthFirstDay = datetime(month.year, month.month, 1).strftime(('%Y-%m-%d'))\n",
    "            monthLastDay = datetime(month.year, month.month, calendar.monthrange(month.year, month.month)[1]).strftime(('%Y-%m-%d'))\n",
    "            tickers_month =tickers[month_str].dropna().tolist()\n",
    "\n",
    "            # 获得每个月每支股票的信息， index为日期， cols为股票名称\n",
    "            month_open = pd.DataFrame()\n",
    "            month_close = pd.DataFrame()\n",
    "            for ticker in tickers_month:\n",
    "                try:\n",
    "                    data_open, data_close = getInfo(ticker, monthFirstDay, monthLastDay)\n",
    "                    # 补NaN\n",
    "                    month_open = pd.concat([month_open, data_open], join='outer', axis=1)\n",
    "                    month_close = pd.concat([month_close, data_close], join='outer', axis=1)\n",
    "                except:\n",
    "                    with open(file_exceptions, 'a') as f:\n",
    "                        f.write(\"{} in {}\\n\".format(ticker, month_str))\n",
    "                    # print(\"{} in {}\".format(ticker, month_str))\n",
    "            print(\"Infomation in {} finished!\".format(month_str))\n",
    "            # 将一年中所有月份的股票信息合并， 空缺处为NaN \n",
    "            tickers_open = pd.concat([tickers_open, month_open])\n",
    "            tickers_close = pd.concat([tickers_close, month_close])\n",
    "\n",
    "        # 存储每年的股票信息\n",
    "        tickers_open.to_csv(\"Open-{}.csv\".format(year))\n",
    "        tickers_close.to_csv(\"Close-{}.csv\".format(year))\n",
    "        print(\"S&P500 price data in {} finished!\".format(year))\n"
   ]
  },
  {
   "cell_type": "code",
   "execution_count": 7,
   "metadata": {},
   "outputs": [],
   "source": [
    "if __name__:\n",
    "    main()"
   ]
  },
  {
   "cell_type": "code",
   "execution_count": null,
   "metadata": {},
   "outputs": [],
   "source": []
  }
 ]
}