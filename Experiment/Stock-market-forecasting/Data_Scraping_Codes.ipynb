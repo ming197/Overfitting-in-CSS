{
 "cells": [
  {
   "cell_type": "markdown",
   "metadata": {},
   "source": [
    "# S&P500 Price Data\n",
    "\n",
    "Using the scraped list of S&P500 firms, I downloaded the price data for each firms into 505 csv files with the Quandl api."
   ]
  },
  {
   "cell_type": "code",
   "execution_count": 7,
   "metadata": {
    "tags": []
   },
   "outputs": [],
   "source": [
    "import quandl\n",
    "import os\n",
    "import pandas as pd"
   ]
  },
  {
   "cell_type": "code",
   "execution_count": 8,
   "metadata": {},
   "outputs": [
    {
     "output_type": "execute_result",
     "data": {
      "text/plain": "    01/1990 02/1990 03/1990 04/1990 05/1990 06/1990 07/1990 08/1990 09/1990  \\\n0      S626    S626    S626    S626    S626    S626    S626    S626    S626   \n1     S1335   S1335   S1335    S490    S490    S490    S490    S490    S490   \n2       S83     S83     S83   S1335   S1335   S1335   S1141   S1141   S1141   \n3     S1090   S1090   S1090     S83     S83     S83   S1335   S1335   S1335   \n4       S59     S59     S59   S1090   S1090   S1090     S83     S83     S83   \n..      ...     ...     ...     ...     ...     ...     ...     ...     ...   \n501     NaN     NaN     NaN     NaN     NaN     NaN     NaN     NaN     NaN   \n502     NaN     NaN     NaN     NaN     NaN     NaN     NaN     NaN     NaN   \n503     NaN     NaN     NaN     NaN     NaN     NaN     NaN     NaN     NaN   \n504     NaN     NaN     NaN     NaN     NaN     NaN     NaN     NaN     NaN   \n505     NaN     NaN     NaN     NaN     NaN     NaN     NaN     NaN     NaN   \n\n    10/1990  ... 03/2018 04/2018 05/2018 06/2018 07/2018 08/2018 09/2018  \\\n0      S626  ...    S456    S456    S456    S456    S456    S456    S456   \n1      S490  ...    S698    S309    S309    S309    S309    S309    S309   \n2     S1141  ...    S709    S698    S698    S698     S30     S30     S30   \n3     S1335  ...    S658    S976    S976    S976    S698    S698    S698   \n4       S83  ...    S834    S709    S709    S709    S631    S631    S631   \n..      ...  ...     ...     ...     ...     ...     ...     ...     ...   \n501     NaN  ...    S446   S1245    S123     S95     S95     S95     S95   \n502     NaN  ...    S854    S248    S124    S617    S617    S617    S617   \n503     NaN  ...    S699   S1349   S1245    S699    S699    S699    S699   \n504     NaN  ...    S654    S654    S248    S654    S654    S654    S654   \n505     NaN  ...     NaN     NaN     NaN     NaN     NaN     NaN     NaN   \n\n    10/2018 11/2018 12/2018  \n0      S456    S456    S198  \n1       S76     S76    S550  \n2      S309    S309    S118  \n3      S976    S976   S1368  \n4      S709    S709   S1170  \n..      ...     ...     ...  \n501    S602   S1032    S613  \n502    S316    S758    S852  \n503    S609    S316     S51  \n504   S1161    S609   S1349  \n505     NaN     NaN     NaN  \n\n[506 rows x 348 columns]",
      "text/html": "<div>\n<style scoped>\n    .dataframe tbody tr th:only-of-type {\n        vertical-align: middle;\n    }\n\n    .dataframe tbody tr th {\n        vertical-align: top;\n    }\n\n    .dataframe thead th {\n        text-align: right;\n    }\n</style>\n<table border=\"1\" class=\"dataframe\">\n  <thead>\n    <tr style=\"text-align: right;\">\n      <th></th>\n      <th>01/1990</th>\n      <th>02/1990</th>\n      <th>03/1990</th>\n      <th>04/1990</th>\n      <th>05/1990</th>\n      <th>06/1990</th>\n      <th>07/1990</th>\n      <th>08/1990</th>\n      <th>09/1990</th>\n      <th>10/1990</th>\n      <th>...</th>\n      <th>03/2018</th>\n      <th>04/2018</th>\n      <th>05/2018</th>\n      <th>06/2018</th>\n      <th>07/2018</th>\n      <th>08/2018</th>\n      <th>09/2018</th>\n      <th>10/2018</th>\n      <th>11/2018</th>\n      <th>12/2018</th>\n    </tr>\n  </thead>\n  <tbody>\n    <tr>\n      <th>0</th>\n      <td>S626</td>\n      <td>S626</td>\n      <td>S626</td>\n      <td>S626</td>\n      <td>S626</td>\n      <td>S626</td>\n      <td>S626</td>\n      <td>S626</td>\n      <td>S626</td>\n      <td>S626</td>\n      <td>...</td>\n      <td>S456</td>\n      <td>S456</td>\n      <td>S456</td>\n      <td>S456</td>\n      <td>S456</td>\n      <td>S456</td>\n      <td>S456</td>\n      <td>S456</td>\n      <td>S456</td>\n      <td>S198</td>\n    </tr>\n    <tr>\n      <th>1</th>\n      <td>S1335</td>\n      <td>S1335</td>\n      <td>S1335</td>\n      <td>S490</td>\n      <td>S490</td>\n      <td>S490</td>\n      <td>S490</td>\n      <td>S490</td>\n      <td>S490</td>\n      <td>S490</td>\n      <td>...</td>\n      <td>S698</td>\n      <td>S309</td>\n      <td>S309</td>\n      <td>S309</td>\n      <td>S309</td>\n      <td>S309</td>\n      <td>S309</td>\n      <td>S76</td>\n      <td>S76</td>\n      <td>S550</td>\n    </tr>\n    <tr>\n      <th>2</th>\n      <td>S83</td>\n      <td>S83</td>\n      <td>S83</td>\n      <td>S1335</td>\n      <td>S1335</td>\n      <td>S1335</td>\n      <td>S1141</td>\n      <td>S1141</td>\n      <td>S1141</td>\n      <td>S1141</td>\n      <td>...</td>\n      <td>S709</td>\n      <td>S698</td>\n      <td>S698</td>\n      <td>S698</td>\n      <td>S30</td>\n      <td>S30</td>\n      <td>S30</td>\n      <td>S309</td>\n      <td>S309</td>\n      <td>S118</td>\n    </tr>\n    <tr>\n      <th>3</th>\n      <td>S1090</td>\n      <td>S1090</td>\n      <td>S1090</td>\n      <td>S83</td>\n      <td>S83</td>\n      <td>S83</td>\n      <td>S1335</td>\n      <td>S1335</td>\n      <td>S1335</td>\n      <td>S1335</td>\n      <td>...</td>\n      <td>S658</td>\n      <td>S976</td>\n      <td>S976</td>\n      <td>S976</td>\n      <td>S698</td>\n      <td>S698</td>\n      <td>S698</td>\n      <td>S976</td>\n      <td>S976</td>\n      <td>S1368</td>\n    </tr>\n    <tr>\n      <th>4</th>\n      <td>S59</td>\n      <td>S59</td>\n      <td>S59</td>\n      <td>S1090</td>\n      <td>S1090</td>\n      <td>S1090</td>\n      <td>S83</td>\n      <td>S83</td>\n      <td>S83</td>\n      <td>S83</td>\n      <td>...</td>\n      <td>S834</td>\n      <td>S709</td>\n      <td>S709</td>\n      <td>S709</td>\n      <td>S631</td>\n      <td>S631</td>\n      <td>S631</td>\n      <td>S709</td>\n      <td>S709</td>\n      <td>S1170</td>\n    </tr>\n    <tr>\n      <th>...</th>\n      <td>...</td>\n      <td>...</td>\n      <td>...</td>\n      <td>...</td>\n      <td>...</td>\n      <td>...</td>\n      <td>...</td>\n      <td>...</td>\n      <td>...</td>\n      <td>...</td>\n      <td>...</td>\n      <td>...</td>\n      <td>...</td>\n      <td>...</td>\n      <td>...</td>\n      <td>...</td>\n      <td>...</td>\n      <td>...</td>\n      <td>...</td>\n      <td>...</td>\n      <td>...</td>\n    </tr>\n    <tr>\n      <th>501</th>\n      <td>NaN</td>\n      <td>NaN</td>\n      <td>NaN</td>\n      <td>NaN</td>\n      <td>NaN</td>\n      <td>NaN</td>\n      <td>NaN</td>\n      <td>NaN</td>\n      <td>NaN</td>\n      <td>NaN</td>\n      <td>...</td>\n      <td>S446</td>\n      <td>S1245</td>\n      <td>S123</td>\n      <td>S95</td>\n      <td>S95</td>\n      <td>S95</td>\n      <td>S95</td>\n      <td>S602</td>\n      <td>S1032</td>\n      <td>S613</td>\n    </tr>\n    <tr>\n      <th>502</th>\n      <td>NaN</td>\n      <td>NaN</td>\n      <td>NaN</td>\n      <td>NaN</td>\n      <td>NaN</td>\n      <td>NaN</td>\n      <td>NaN</td>\n      <td>NaN</td>\n      <td>NaN</td>\n      <td>NaN</td>\n      <td>...</td>\n      <td>S854</td>\n      <td>S248</td>\n      <td>S124</td>\n      <td>S617</td>\n      <td>S617</td>\n      <td>S617</td>\n      <td>S617</td>\n      <td>S316</td>\n      <td>S758</td>\n      <td>S852</td>\n    </tr>\n    <tr>\n      <th>503</th>\n      <td>NaN</td>\n      <td>NaN</td>\n      <td>NaN</td>\n      <td>NaN</td>\n      <td>NaN</td>\n      <td>NaN</td>\n      <td>NaN</td>\n      <td>NaN</td>\n      <td>NaN</td>\n      <td>NaN</td>\n      <td>...</td>\n      <td>S699</td>\n      <td>S1349</td>\n      <td>S1245</td>\n      <td>S699</td>\n      <td>S699</td>\n      <td>S699</td>\n      <td>S699</td>\n      <td>S609</td>\n      <td>S316</td>\n      <td>S51</td>\n    </tr>\n    <tr>\n      <th>504</th>\n      <td>NaN</td>\n      <td>NaN</td>\n      <td>NaN</td>\n      <td>NaN</td>\n      <td>NaN</td>\n      <td>NaN</td>\n      <td>NaN</td>\n      <td>NaN</td>\n      <td>NaN</td>\n      <td>NaN</td>\n      <td>...</td>\n      <td>S654</td>\n      <td>S654</td>\n      <td>S248</td>\n      <td>S654</td>\n      <td>S654</td>\n      <td>S654</td>\n      <td>S654</td>\n      <td>S1161</td>\n      <td>S609</td>\n      <td>S1349</td>\n    </tr>\n    <tr>\n      <th>505</th>\n      <td>NaN</td>\n      <td>NaN</td>\n      <td>NaN</td>\n      <td>NaN</td>\n      <td>NaN</td>\n      <td>NaN</td>\n      <td>NaN</td>\n      <td>NaN</td>\n      <td>NaN</td>\n      <td>NaN</td>\n      <td>...</td>\n      <td>NaN</td>\n      <td>NaN</td>\n      <td>NaN</td>\n      <td>NaN</td>\n      <td>NaN</td>\n      <td>NaN</td>\n      <td>NaN</td>\n      <td>NaN</td>\n      <td>NaN</td>\n      <td>NaN</td>\n    </tr>\n  </tbody>\n</table>\n<p>506 rows × 348 columns</p>\n</div>"
     },
     "metadata": {},
     "execution_count": 8
    }
   ],
   "source": [
    "tickers = pd.read_csv('./data/SPXconst.csv')\n",
    "tickers"
   ]
  },
  {
   "cell_type": "code",
   "execution_count": 17,
   "metadata": {},
   "outputs": [
    {
     "name": "stdout",
     "output_type": "stream",
     "text": [
      "['MMM', 'ABT', 'ABBV', 'ACN', 'ATVI', 'AYI', 'ADBE', 'AMD', 'AAP', 'AES', 'AET', 'AMG', 'AFL', 'A', 'APD', 'AKAM', 'ALK', 'ALB', 'ARE', 'ALXN', 'ALGN', 'ALLE', 'AGN', 'ADS', 'LNT', 'ALL', 'GOOGL', 'GOOG', 'MO', 'AMZN', 'AEE', 'AAL', 'AEP', 'AXP', 'AIG', 'AMT', 'AWK', 'AMP', 'ABC', 'AME', 'AMGN', 'APH', 'APC', 'ADI', 'ANDV', 'ANSS', 'ANTM', 'AON', 'AOS', 'APA', 'AIV', 'AAPL', 'AMAT', 'APTV', 'ADM', 'ARNC', 'AJG', 'AIZ', 'T', 'ADSK', 'ADP', 'AZO', 'AVB', 'AVY', 'BHGE', 'BLL', 'BAC', 'BK', 'BAX', 'BBT', 'BDX', 'BRK.B', 'BBY', 'BIIB', 'BLK', 'HRB', 'BA', 'BKNG', 'BWA', 'BXP', 'BSX', 'BHF', 'BMY', 'AVGO', 'BF.B', 'CHRW', 'CA', 'COG', 'CDNS', 'CPB', 'COF', 'CAH', 'KMX', 'CCL', 'CAT', 'CBOE', 'CBRE', 'CBS', 'CELG', 'CNC', 'CNP', 'CTL', 'CERN', 'CF', 'SCHW', 'CHTR', 'CVX', 'CMG', 'CB', 'CHD', 'CI', 'XEC', 'CINF', 'CTAS', 'CSCO', 'C', 'CFG', 'CTXS', 'CLX', 'CME', 'CMS', 'KO', 'CTSH', 'CL', 'CMCSA', 'CMA', 'CAG', 'CXO', 'COP', 'ED', 'STZ', 'COO', 'GLW', 'COST', 'COTY', 'CCI', 'CSX', 'CMI', 'CVS', 'DHI', 'DHR', 'DRI', 'DVA', 'DE', 'DAL', 'XRAY', 'DVN', 'DLR', 'DFS', 'DISCA', 'DISCK', 'DISH', 'DG', 'DLTR', 'D', 'DOV', 'DWDP', 'DPS', 'DTE', 'DRE', 'DUK', 'DXC', 'ETFC', 'EMN', 'ETN', 'EBAY', 'ECL', 'EIX', 'EW', 'EA', 'EMR', 'ETR', 'EVHC', 'EOG', 'EQT', 'EFX', 'EQIX', 'EQR', 'ESS', 'EL', 'ES', 'RE', 'EXC', 'EXPE', 'EXPD', 'ESRX', 'EXR', 'XOM', 'FFIV', 'FB', 'FAST', 'FRT', 'FDX', 'FIS', 'FITB', 'FE', 'FISV', 'FLIR', 'FLS', 'FLR', 'FMC', 'FL', 'F', 'FTV', 'FBHS', 'BEN', 'FCX', 'GPS', 'GRMN', 'IT', 'GD', 'GE', 'GGP', 'GIS', 'GM', 'GPC', 'GILD', 'GPN', 'GS', 'GT', 'GWW', 'HAL', 'HBI', 'HOG', 'HRS', 'HIG', 'HAS', 'HCA', 'HCP', 'HP', 'HSIC', 'HSY', 'HES', 'HPE', 'HLT', 'HOLX', 'HD', 'HON', 'HRL', 'HST', 'HPQ', 'HUM', 'HBAN', 'HII', 'IDXX', 'INFO', 'ITW', 'ILMN', 'IR', 'INTC', 'ICE', 'IBM', 'INCY', 'IP', 'IPG', 'IFF', 'INTU', 'ISRG', 'IVZ', 'IPGP', 'IQV', 'IRM', 'JEC', 'JBHT', 'SJM', 'JNJ', 'JCI', 'JPM', 'JNPR', 'KSU', 'K', 'KEY', 'KMB', 'KIM', 'KMI', 'KLAC', 'KSS', 'KHC', 'KR', 'LB', 'LLL', 'LH', 'LRCX', 'LEG', 'LEN', 'LUK', 'LLY', 'LNC', 'LKQ', 'LMT', 'L', 'LOW', 'LYB', 'MTB', 'MAC', 'M', 'MRO', 'MPC', 'MAR', 'MMC', 'MLM', 'MAS', 'MA', 'MAT', 'MKC', 'MCD', 'MCK', 'MDT', 'MRK', 'MET', 'MTD', 'MGM', 'KORS', 'MCHP', 'MU', 'MSFT', 'MAA', 'MHK', 'TAP', 'MDLZ', 'MON', 'MNST', 'MCO', 'MS', 'MOS', 'MSI', 'MSCI', 'MYL', 'NDAQ', 'NOV', 'NAVI', 'NKTR', 'NTAP', 'NFLX', 'NWL', 'NFX', 'NEM', 'NWSA', 'NWS', 'NEE', 'NLSN', 'NKE', 'NI', 'NBL', 'JWN', 'NSC', 'NTRS', 'NOC', 'NCLH', 'NRG', 'NUE', 'NVDA', 'ORLY', 'OXY', 'OMC', 'OKE', 'ORCL', 'PCAR', 'PKG', 'PH', 'PAYX', 'PYPL', 'PNR', 'PBCT', 'PEP', 'PKI', 'PRGO', 'PFE', 'PCG', 'PM', 'PSX', 'PNW', 'PXD', 'PNC', 'RL', 'PPG', 'PPL', 'PX', 'PFG', 'PG', 'PGR', 'PLD', 'PRU', 'PEG', 'PSA', 'PHM', 'PVH', 'QRVO', 'PWR', 'QCOM', 'DGX', 'RRC', 'RJF', 'RTN', 'O', 'RHT', 'REG', 'REGN', 'RF', 'RSG', 'RMD', 'RHI', 'ROK', 'COL', 'ROP', 'ROST', 'RCL', 'CRM', 'SBAC', 'SCG', 'SLB', 'STX', 'SEE', 'SRE', 'SHW', 'SPG', 'SWKS', 'SLG', 'SNA', 'SO', 'LUV', 'SPGI', 'SWK', 'SBUX', 'STT', 'SRCL', 'SYK', 'STI', 'SIVB', 'SYMC', 'SYF', 'SNPS', 'SYY', 'TROW', 'TTWO', 'TPR', 'TGT', 'TEL', 'FTI', 'TXN', 'TXT', 'TMO', 'TIF', 'TWX', 'TJX', 'TMK', 'TSS', 'TSCO', 'TDG', 'TRV', 'TRIP', 'FOXA', 'FOX', 'TSN', 'UDR', 'ULTA', 'USB', 'UAA', 'UA', 'UNP', 'UAL', 'UNH', 'UPS', 'URI', 'UTX', 'UHS', 'UNM', 'VFC', 'VLO', 'VAR', 'VTR', 'VRSN', 'VRSK', 'VZ', 'VRTX', 'VIAB', 'V', 'VNO', 'VMC', 'WMT', 'WBA', 'DIS', 'WM', 'WAT', 'WEC', 'WFC', 'WELL', 'WDC', 'WU', 'WRK', 'WY', 'WHR', 'WMB', 'WLTW', 'WYN', 'WYNN', 'XEL', 'XRX', 'XLNX', 'XL', 'XYL', 'YUM', 'ZBH', 'ZION', 'ZTS']\n",
      "ABBV file size 158603 bytes : reloading data...\n",
      "ALLE file size 127476 bytes : reloading data...\n",
      "GOOG file size 90487 bytes : reloading data...\n",
      "ANDV file size 10455 bytes : reloading data...\n",
      "APTV file size 1413 bytes : reloading data...\n",
      "BHGE file size 14086 bytes : reloading data...\n",
      "BKNG file size 109 bytes : reloading data...\n",
      "BHF file size 8767 bytes : reloading data...\n",
      "CBOE file size 236081 bytes : reloading data...\n",
      "CBRE file size 109 bytes : reloading data...\n",
      "CHTR file size 181555 bytes : reloading data...\n",
      "CFG file size 103286 bytes : reloading data...\n",
      "CXO file size 234889 bytes : reloading data...\n",
      "COTY file size 141919 bytes : reloading data...\n",
      "DISCK file size 204933 bytes : reloading data...\n",
      "DWDP file size 7289 bytes : reloading data...\n",
      "DXC file size 23297 bytes : reloading data...\n",
      "EVHC file size 95767 bytes : reloading data...\n",
      "FB file size 130983 bytes : reloading data...\n",
      "FTV file size 44200 bytes : reloading data...\n",
      "FBHS file size 196691 bytes : reloading data...\n",
      "GM file size 227169 bytes : reloading data...\n",
      "HCA file size 172352 bytes : reloading data...\n",
      "HPE file size 66979 bytes : reloading data...\n",
      "HLT file size 13542 bytes : reloading data...\n",
      "HII file size 214136 bytes : reloading data...\n",
      "INFO file size 12901 bytes : reloading data...\n",
      "IQV file size 3023 bytes : reloading data...\n",
      "KMI file size 220135 bytes : reloading data...\n",
      "KHC file size 76373 bytes : reloading data...\n",
      "LYB file size 243513 bytes : reloading data...\n",
      "MPC file size 208025 bytes : reloading data...\n",
      "KORS file size 132867 bytes : reloading data...\n",
      "NAVI file size 115510 bytes : reloading data...\n",
      "NWSA file size 142667 bytes : reloading data...\n",
      "NWS file size 140115 bytes : reloading data...\n",
      "NLSN file size 220115 bytes : reloading data...\n",
      "NCLH file size 108253 bytes : reloading data...\n",
      "PYPL file size 54447 bytes : reloading data...\n",
      "PSX file size 179621 bytes : reloading data...\n",
      "PPG file size 21342 bytes : reloading data...\n",
      "QRVO file size 65697 bytes : reloading data...\n",
      "SPGI file size 54219 bytes : reloading data...\n",
      "SYF file size 108219 bytes : reloading data...\n",
      "TPR file size 3699 bytes : reloading data...\n",
      "TRV file size 19859 bytes : reloading data...\n",
      "TRIP file size 133745 bytes : reloading data...\n",
      "UA file size 38249 bytes : reloading data...\n",
      "VRSK file size 177833 bytes : reloading data...\n",
      "WELL file size 109 bytes : reloading data...\n",
      "WRK file size 79493 bytes : reloading data...\n",
      "WLTW file size 62760 bytes : reloading data...\n",
      "XYL file size 196130 bytes : reloading data...\n",
      "ZTS file size 152039 bytes : reloading data...\n"
     ]
    }
   ],
   "source": [
    "\n",
    "API_KEY = '95NJZYJYyXToregziQw8'\n",
    "start = \"2000-01-01\"\n",
    "end = \"2017-12-31\"\n",
    "tickers = list(SP_df.ticker)\n",
    "print(tickers)\n",
    "\n",
    "path = './stock_data'\n",
    "for file in os.listdir(path) :\n",
    "    os.remove(path+'/'+file)\n",
    "for item in tickers :\n",
    "    data = quandl.get(\"WIKI/{}\".format(item.replace(\".\",\"_\")), start_date=start, end_date=end, api_key=API_KEY)     \n",
    "    data_dir = path + '/' + item + \".csv\"\n",
    "    data.to_csv(data_dir)\n",
    "    \n",
    "    if os.path.getsize(data_dir) < 250000 :\n",
    "        print(item+' file size '+str(os.path.getsize(data_dir))+' bytes : reloading data...')\n",
    "        data = quandl.get(\"WIKI/{}\".format(item.replace(\".\",\"_\")), start_date=start, end_date=end, api_key=API_KEY)   \n",
    "        data.to_csv(data_dir)"
   ]
  },
  {
   "cell_type": "code",
   "execution_count": null,
   "metadata": {
    "collapsed": true
   },
   "outputs": [],
   "source": []
  },
  {
   "cell_type": "code",
   "execution_count": null,
   "metadata": {
    "collapsed": true
   },
   "outputs": [],
   "source": []
  },
  {
   "cell_type": "code",
   "execution_count": null,
   "metadata": {},
   "outputs": [],
   "source": []
  },
  {
   "cell_type": "code",
   "execution_count": null,
   "metadata": {
    "collapsed": true
   },
   "outputs": [],
   "source": []
  }
 ],
 "metadata": {
  "kernelspec": {
   "display_name": "Python 3",
   "language": "python",
   "name": "python3"
  },
  "language_info": {
   "codemirror_mode": {
    "name": "ipython",
    "version": 3
   },
   "file_extension": ".py",
   "mimetype": "text/x-python",
   "name": "python",
   "nbconvert_exporter": "python",
   "pygments_lexer": "ipython3",
   "version": "3.6.7-final"
  }
 },
 "nbformat": 4,
 "nbformat_minor": 2
}