{
 "metadata": {
  "language_info": {
   "codemirror_mode": {
    "name": "ipython",
    "version": 3
   },
   "file_extension": ".py",
   "mimetype": "text/x-python",
   "name": "python",
   "nbconvert_exporter": "python",
   "pygments_lexer": "ipython3",
   "version": "3.7.6-final"
  },
  "orig_nbformat": 2,
  "kernelspec": {
   "name": "Python 3.7.6 64-bit ('base': conda)",
   "display_name": "Python 3.7.6 64-bit ('base': conda)",
   "metadata": {
    "interpreter": {
     "hash": "df619985315deac7a16192b1002f6732827f3aaa3582dc671808acaae285e381"
    }
   }
  }
 },
 "nbformat": 4,
 "nbformat_minor": 2,
 "cells": [
  {
   "cell_type": "code",
   "execution_count": 12,
   "metadata": {},
   "outputs": [],
   "source": [
    "import pandas as pd\n",
    "import numpy as np\n",
    "import random\n",
    "import time\n",
    "import pickle\n",
    "from sklearn.ensemble import RandomForestClassifier\n",
    "from Statistics import Statistics"
   ]
  },
  {
   "cell_type": "code",
   "execution_count": 13,
   "metadata": {},
   "outputs": [],
   "source": [
    "import os\n",
    "SEED = 9\n",
    "os.environ['PYTHONHASHSEED']=str(SEED)\n",
    "random.seed(SEED)\n",
    "np.random.seed(SEED)"
   ]
  },
  {
   "cell_type": "code",
   "execution_count": 14,
   "metadata": {},
   "outputs": [],
   "source": [
    "SP500_df = pd.read_csv('data/SPXconst.csv')\n",
    "all_companies = list(set(SP500_df.values.flatten()))\n",
    "all_companies.remove(np.nan)"
   ]
  },
  {
   "cell_type": "code",
   "execution_count": 15,
   "metadata": {},
   "outputs": [],
   "source": [
    "constituents = {'-'.join(col.split('/')[::-1]):set(SP500_df[col].dropna()) \n",
    "                for col in SP500_df.columns}\n",
    "                "
   ]
  },
  {
   "cell_type": "code",
   "execution_count": 16,
   "metadata": {},
   "outputs": [
    {
     "output_type": "stream",
     "name": "stdout",
     "text": [
      "172\n174\n181\n186\n187\n196\n200\n209\n217\n224\n233\n237\n242\n249\n260\n280\n302\n321\n337\n353\n373\n392\n409\n"
     ]
    }
   ],
   "source": [
    "constituents_train = {} \n",
    "for test_year in range(1993,2016):\n",
    "    months = [str(t)+'-0'+str(m) if m<10 else str(t)+'-'+str(m) \n",
    "              for t in range(test_year-3,test_year) for m in range(1,13)]\n",
    "    constituents_train[test_year] = [list(constituents[m]) for m in months]\n",
    "    # print(len(constituents_train[test_year][0]))\n",
    "    # print(len(constituents_train[test_year][-1]))\n",
    "    constituents_train[test_year] = set([i for sublist in constituents_train[test_year] \n",
    "                                         for i in sublist])\n",
    "    print(len(constituents_train[test_year]))\n",
    "    # break"
   ]
  },
  {
   "cell_type": "code",
   "execution_count": 17,
   "metadata": {},
   "outputs": [],
   "source": [
    "def create_label(df_open,df_close,perc=[0.5,0.5]):\n",
    "    if not np.all(df_close.iloc[:,0]==df_open.iloc[:,0]):\n",
    "        print('Date Index issue')\n",
    "        return\n",
    "    perc = [0.]+list(np.cumsum(perc))\n",
    "    label = (df_close.iloc[:,1:]/df_open.iloc[:,1:]-1).apply(\n",
    "            lambda x: pd.qcut(x.rank(method='first'),perc,labels=False), axis=1)\n",
    "    return label[1:]"
   ]
  },
  {
   "cell_type": "code",
   "execution_count": 28,
   "metadata": {},
   "outputs": [],
   "source": [
    "def create_stock_data(df_open,df_close,st,m=240):\n",
    "    '''\n",
    "        df_open: 某年的开盘价\n",
    "        df_close： 某年的收盘价\n",
    "        st: 股票代码\n",
    "    '''\n",
    "    st_data = pd.DataFrame([])\n",
    "    st_data['Date'] = list(df_close['Date'])\n",
    "    st_data['Name'] = [st]*len(st_data)\n",
    "    # 日变化率: close_price / open_price - 1\n",
    "    print(df_close.columns.values)\n",
    "    print(df_close[st])\n",
    "    print(df_open[st])\n",
    "    return\n",
    "    daily_change = df_close[st]/df_open[st]-1\n",
    "    for k in range(m)[::-1]:\n",
    "        st_data['IntraR'+str(k)] = daily_change.shift(k)\n",
    "\n",
    "    # close_price(t + 1) / open_price(t) - 1\n",
    "    nextday_ret = (np.array(df_open[st][1:])/np.array(df_close[st][:-1])-1)\n",
    "    nextday_ret = pd.Series(list(nextday_ret)+[np.nan])     \n",
    "    for k in range(m)[::-1]:\n",
    "        st_data['NextR'+str(k)] = nextday_ret.shift(k)\n",
    "\n",
    "    # 收盘价的变化率：close_price(t + 1) / close_price(t) - 1\n",
    "    close_change = df_close[st].pct_change()\n",
    "    for k in range(m)[::-1]:\n",
    "        st_data['CloseR'+str(k)] = close_change.shift(k)\n",
    "\n",
    "    st_data['IntraR-future'] = daily_change.shift(-1)    \n",
    "    st_data['label'] = list(label[st])+[np.nan] \n",
    "    st_data['Month'] = list(df_close['Date'].str[:-3])\n",
    "    st_data = st_data.dropna()\n",
    "    \n",
    "    trade_year = st_data['Month'].str[:4]\n",
    "    st_data = st_data.drop(columns=['Month'])\n",
    "    st_train_data = st_data[trade_year<str(test_year)]\n",
    "    st_test_data = st_data[trade_year==str(test_year)]\n",
    "    return np.array(st_train_data),np.array(st_test_data) "
   ]
  },
  {
   "cell_type": "code",
   "execution_count": 29,
   "metadata": {},
   "outputs": [
    {
     "output_type": "stream",
     "name": "stdout",
     "text": [
      "----------------------------------------\n",
      "1993\n",
      "----------------------------------------\n",
      "['Date' 'HBAN' 'SPGI' 'EBAY' 'VLO' 'MKC' 'GLW' 'TSN' 'ETN' 'QCOM' 'OMC'\n",
      " 'D' 'MCO' 'L' 'PNW' 'MET' 'FITB' 'USB' 'PPL' 'BEN' 'LEG' 'GE' 'PAYX' 'K'\n",
      " 'TMO' 'STT' 'MAR' 'HUM' 'ED' 'NI' 'FE' 'SRE' 'MSI' 'VNO' 'XRX' 'DHR'\n",
      " 'MCK' 'WHR' 'TROW' 'TPR' 'WRK' 'DRI' 'WY' 'MS' 'WAT' 'FCX' 'TXN' 'KLAC'\n",
      " 'ROK' 'WM' 'NTRS' 'ES' 'SBUX' 'COP' 'CVX' 'XEL' 'KR' 'ETR' 'KMB' 'PFE'\n",
      " 'PPG' 'PG' 'SO' 'PEP' 'CVS' 'IP' 'NSC' 'DE' 'F' 'CPB' 'DTE' 'AEP' 'HIG'\n",
      " 'SEE' 'EXC' 'EIX' 'BA' 'BMY' 'IBM' 'CAT' 'KO' 'CL' 'MRK' 'MO' 'PEG' 'HSY'\n",
      " 'XOM' 'HAL' 'GD' 'UNP' 'HON' 'ABT' 'SHW' 'SLB' 'CMI' 'EMR' 'CSX' 'GIS'\n",
      " 'CLX' 'NEM' 'MCD' 'LLY' 'BDX' 'BAX' 'JNJ' 'GPC' 'HPQ' 'WMB' 'JPM' 'IFF'\n",
      " 'WFC' 'AXP' 'DIS' 'CI' 'NEE' 'TAP' 'LNC' 'DUK' 'BAC' 'TGT' 'INTC' 'TXT'\n",
      " 'VFC' 'WBA' 'AIG' 'FDX' 'PCAR' 'ADP' 'MAS' 'GWW' 'ADM' 'WMT' 'SNA' 'SWK'\n",
      " 'BF.B' 'AAPL' 'OXY' 'CAG' 'LB' 'VZ' 'LOW' 'PHM' 'HES' 'LMT' 'HAS' 'BLL'\n",
      " 'T' 'NUE' 'APD' 'PKI' 'NOC' 'CNP' 'TJX' 'DOV' 'PH' 'ITW' 'GPS' 'MDT'\n",
      " 'SYY' 'MMC' 'AVY' 'HD' 'PNC' 'C' 'NKE' 'ECL' 'NWL' 'ORCL' 'ADSK']\n"
     ]
    },
    {
     "output_type": "error",
     "ename": "KeyError",
     "evalue": "'AEE'",
     "traceback": [
      "\u001b[1;31m---------------------------------------------------------------------------\u001b[0m",
      "\u001b[1;31mKeyError\u001b[0m                                  Traceback (most recent call last)",
      "\u001b[1;32m~\\anaconda3\\lib\\site-packages\\pandas\\core\\indexes\\base.py\u001b[0m in \u001b[0;36mget_loc\u001b[1;34m(self, key, method, tolerance)\u001b[0m\n\u001b[0;32m   2645\u001b[0m             \u001b[1;32mtry\u001b[0m\u001b[1;33m:\u001b[0m\u001b[1;33m\u001b[0m\u001b[1;33m\u001b[0m\u001b[0m\n\u001b[1;32m-> 2646\u001b[1;33m                 \u001b[1;32mreturn\u001b[0m \u001b[0mself\u001b[0m\u001b[1;33m.\u001b[0m\u001b[0m_engine\u001b[0m\u001b[1;33m.\u001b[0m\u001b[0mget_loc\u001b[0m\u001b[1;33m(\u001b[0m\u001b[0mkey\u001b[0m\u001b[1;33m)\u001b[0m\u001b[1;33m\u001b[0m\u001b[1;33m\u001b[0m\u001b[0m\n\u001b[0m\u001b[0;32m   2647\u001b[0m             \u001b[1;32mexcept\u001b[0m \u001b[0mKeyError\u001b[0m\u001b[1;33m:\u001b[0m\u001b[1;33m\u001b[0m\u001b[1;33m\u001b[0m\u001b[0m\n",
      "\u001b[1;32mpandas\\_libs\\index.pyx\u001b[0m in \u001b[0;36mpandas._libs.index.IndexEngine.get_loc\u001b[1;34m()\u001b[0m\n",
      "\u001b[1;32mpandas\\_libs\\index.pyx\u001b[0m in \u001b[0;36mpandas._libs.index.IndexEngine.get_loc\u001b[1;34m()\u001b[0m\n",
      "\u001b[1;32mpandas\\_libs\\hashtable_class_helper.pxi\u001b[0m in \u001b[0;36mpandas._libs.hashtable.PyObjectHashTable.get_item\u001b[1;34m()\u001b[0m\n",
      "\u001b[1;32mpandas\\_libs\\hashtable_class_helper.pxi\u001b[0m in \u001b[0;36mpandas._libs.hashtable.PyObjectHashTable.get_item\u001b[1;34m()\u001b[0m\n",
      "\u001b[1;31mKeyError\u001b[0m: 'AEE'",
      "\nDuring handling of the above exception, another exception occurred:\n",
      "\u001b[1;31mKeyError\u001b[0m                                  Traceback (most recent call last)",
      "\u001b[1;32m<ipython-input-29-680f6305396b>\u001b[0m in \u001b[0;36m<module>\u001b[1;34m\u001b[0m\n\u001b[0;32m     16\u001b[0m     \u001b[1;32mfor\u001b[0m \u001b[0mst\u001b[0m \u001b[1;32min\u001b[0m \u001b[0mstock_names\u001b[0m\u001b[1;33m:\u001b[0m\u001b[1;33m\u001b[0m\u001b[1;33m\u001b[0m\u001b[0m\n\u001b[0;32m     17\u001b[0m         \u001b[0mst\u001b[0m \u001b[1;33m=\u001b[0m \u001b[1;34m\"AEE\"\u001b[0m\u001b[1;33m\u001b[0m\u001b[1;33m\u001b[0m\u001b[0m\n\u001b[1;32m---> 18\u001b[1;33m         \u001b[0mst_train_data\u001b[0m\u001b[1;33m,\u001b[0m\u001b[0mst_test_data\u001b[0m \u001b[1;33m=\u001b[0m \u001b[0mcreate_stock_data\u001b[0m\u001b[1;33m(\u001b[0m\u001b[0mdf_open\u001b[0m\u001b[1;33m,\u001b[0m\u001b[0mdf_close\u001b[0m\u001b[1;33m,\u001b[0m\u001b[0mst\u001b[0m\u001b[1;33m)\u001b[0m\u001b[1;33m\u001b[0m\u001b[1;33m\u001b[0m\u001b[0m\n\u001b[0m\u001b[0;32m     19\u001b[0m         \u001b[0mtrain_data\u001b[0m\u001b[1;33m.\u001b[0m\u001b[0mappend\u001b[0m\u001b[1;33m(\u001b[0m\u001b[0mst_train_data\u001b[0m\u001b[1;33m)\u001b[0m\u001b[1;33m\u001b[0m\u001b[1;33m\u001b[0m\u001b[0m\n\u001b[0;32m     20\u001b[0m         \u001b[0mtest_data\u001b[0m\u001b[1;33m.\u001b[0m\u001b[0mappend\u001b[0m\u001b[1;33m(\u001b[0m\u001b[0mst_test_data\u001b[0m\u001b[1;33m)\u001b[0m\u001b[1;33m\u001b[0m\u001b[1;33m\u001b[0m\u001b[0m\n",
      "\u001b[1;32m<ipython-input-28-f1c4b6b9f039>\u001b[0m in \u001b[0;36mcreate_stock_data\u001b[1;34m(df_open, df_close, st, m)\u001b[0m\n\u001b[0;32m     10\u001b[0m     \u001b[1;31m# 日变化率: close_price / open_price - 1\u001b[0m\u001b[1;33m\u001b[0m\u001b[1;33m\u001b[0m\u001b[1;33m\u001b[0m\u001b[0m\n\u001b[0;32m     11\u001b[0m     \u001b[0mprint\u001b[0m\u001b[1;33m(\u001b[0m\u001b[0mdf_close\u001b[0m\u001b[1;33m.\u001b[0m\u001b[0mcolumns\u001b[0m\u001b[1;33m.\u001b[0m\u001b[0mvalues\u001b[0m\u001b[1;33m)\u001b[0m\u001b[1;33m\u001b[0m\u001b[1;33m\u001b[0m\u001b[0m\n\u001b[1;32m---> 12\u001b[1;33m     \u001b[0mprint\u001b[0m\u001b[1;33m(\u001b[0m\u001b[0mdf_close\u001b[0m\u001b[1;33m[\u001b[0m\u001b[0mst\u001b[0m\u001b[1;33m]\u001b[0m\u001b[1;33m)\u001b[0m\u001b[1;33m\u001b[0m\u001b[1;33m\u001b[0m\u001b[0m\n\u001b[0m\u001b[0;32m     13\u001b[0m     \u001b[0mprint\u001b[0m\u001b[1;33m(\u001b[0m\u001b[0mdf_open\u001b[0m\u001b[1;33m[\u001b[0m\u001b[0mst\u001b[0m\u001b[1;33m]\u001b[0m\u001b[1;33m)\u001b[0m\u001b[1;33m\u001b[0m\u001b[1;33m\u001b[0m\u001b[0m\n\u001b[0;32m     14\u001b[0m     \u001b[1;32mreturn\u001b[0m\u001b[1;33m\u001b[0m\u001b[1;33m\u001b[0m\u001b[0m\n",
      "\u001b[1;32m~\\anaconda3\\lib\\site-packages\\pandas\\core\\frame.py\u001b[0m in \u001b[0;36m__getitem__\u001b[1;34m(self, key)\u001b[0m\n\u001b[0;32m   2798\u001b[0m             \u001b[1;32mif\u001b[0m \u001b[0mself\u001b[0m\u001b[1;33m.\u001b[0m\u001b[0mcolumns\u001b[0m\u001b[1;33m.\u001b[0m\u001b[0mnlevels\u001b[0m \u001b[1;33m>\u001b[0m \u001b[1;36m1\u001b[0m\u001b[1;33m:\u001b[0m\u001b[1;33m\u001b[0m\u001b[1;33m\u001b[0m\u001b[0m\n\u001b[0;32m   2799\u001b[0m                 \u001b[1;32mreturn\u001b[0m \u001b[0mself\u001b[0m\u001b[1;33m.\u001b[0m\u001b[0m_getitem_multilevel\u001b[0m\u001b[1;33m(\u001b[0m\u001b[0mkey\u001b[0m\u001b[1;33m)\u001b[0m\u001b[1;33m\u001b[0m\u001b[1;33m\u001b[0m\u001b[0m\n\u001b[1;32m-> 2800\u001b[1;33m             \u001b[0mindexer\u001b[0m \u001b[1;33m=\u001b[0m \u001b[0mself\u001b[0m\u001b[1;33m.\u001b[0m\u001b[0mcolumns\u001b[0m\u001b[1;33m.\u001b[0m\u001b[0mget_loc\u001b[0m\u001b[1;33m(\u001b[0m\u001b[0mkey\u001b[0m\u001b[1;33m)\u001b[0m\u001b[1;33m\u001b[0m\u001b[1;33m\u001b[0m\u001b[0m\n\u001b[0m\u001b[0;32m   2801\u001b[0m             \u001b[1;32mif\u001b[0m \u001b[0mis_integer\u001b[0m\u001b[1;33m(\u001b[0m\u001b[0mindexer\u001b[0m\u001b[1;33m)\u001b[0m\u001b[1;33m:\u001b[0m\u001b[1;33m\u001b[0m\u001b[1;33m\u001b[0m\u001b[0m\n\u001b[0;32m   2802\u001b[0m                 \u001b[0mindexer\u001b[0m \u001b[1;33m=\u001b[0m \u001b[1;33m[\u001b[0m\u001b[0mindexer\u001b[0m\u001b[1;33m]\u001b[0m\u001b[1;33m\u001b[0m\u001b[1;33m\u001b[0m\u001b[0m\n",
      "\u001b[1;32m~\\anaconda3\\lib\\site-packages\\pandas\\core\\indexes\\base.py\u001b[0m in \u001b[0;36mget_loc\u001b[1;34m(self, key, method, tolerance)\u001b[0m\n\u001b[0;32m   2646\u001b[0m                 \u001b[1;32mreturn\u001b[0m \u001b[0mself\u001b[0m\u001b[1;33m.\u001b[0m\u001b[0m_engine\u001b[0m\u001b[1;33m.\u001b[0m\u001b[0mget_loc\u001b[0m\u001b[1;33m(\u001b[0m\u001b[0mkey\u001b[0m\u001b[1;33m)\u001b[0m\u001b[1;33m\u001b[0m\u001b[1;33m\u001b[0m\u001b[0m\n\u001b[0;32m   2647\u001b[0m             \u001b[1;32mexcept\u001b[0m \u001b[0mKeyError\u001b[0m\u001b[1;33m:\u001b[0m\u001b[1;33m\u001b[0m\u001b[1;33m\u001b[0m\u001b[0m\n\u001b[1;32m-> 2648\u001b[1;33m                 \u001b[1;32mreturn\u001b[0m \u001b[0mself\u001b[0m\u001b[1;33m.\u001b[0m\u001b[0m_engine\u001b[0m\u001b[1;33m.\u001b[0m\u001b[0mget_loc\u001b[0m\u001b[1;33m(\u001b[0m\u001b[0mself\u001b[0m\u001b[1;33m.\u001b[0m\u001b[0m_maybe_cast_indexer\u001b[0m\u001b[1;33m(\u001b[0m\u001b[0mkey\u001b[0m\u001b[1;33m)\u001b[0m\u001b[1;33m)\u001b[0m\u001b[1;33m\u001b[0m\u001b[1;33m\u001b[0m\u001b[0m\n\u001b[0m\u001b[0;32m   2649\u001b[0m         \u001b[0mindexer\u001b[0m \u001b[1;33m=\u001b[0m \u001b[0mself\u001b[0m\u001b[1;33m.\u001b[0m\u001b[0mget_indexer\u001b[0m\u001b[1;33m(\u001b[0m\u001b[1;33m[\u001b[0m\u001b[0mkey\u001b[0m\u001b[1;33m]\u001b[0m\u001b[1;33m,\u001b[0m \u001b[0mmethod\u001b[0m\u001b[1;33m=\u001b[0m\u001b[0mmethod\u001b[0m\u001b[1;33m,\u001b[0m \u001b[0mtolerance\u001b[0m\u001b[1;33m=\u001b[0m\u001b[0mtolerance\u001b[0m\u001b[1;33m)\u001b[0m\u001b[1;33m\u001b[0m\u001b[1;33m\u001b[0m\u001b[0m\n\u001b[0;32m   2650\u001b[0m         \u001b[1;32mif\u001b[0m \u001b[0mindexer\u001b[0m\u001b[1;33m.\u001b[0m\u001b[0mndim\u001b[0m \u001b[1;33m>\u001b[0m \u001b[1;36m1\u001b[0m \u001b[1;32mor\u001b[0m \u001b[0mindexer\u001b[0m\u001b[1;33m.\u001b[0m\u001b[0msize\u001b[0m \u001b[1;33m>\u001b[0m \u001b[1;36m1\u001b[0m\u001b[1;33m:\u001b[0m\u001b[1;33m\u001b[0m\u001b[1;33m\u001b[0m\u001b[0m\n",
      "\u001b[1;32mpandas\\_libs\\index.pyx\u001b[0m in \u001b[0;36mpandas._libs.index.IndexEngine.get_loc\u001b[1;34m()\u001b[0m\n",
      "\u001b[1;32mpandas\\_libs\\index.pyx\u001b[0m in \u001b[0;36mpandas._libs.index.IndexEngine.get_loc\u001b[1;34m()\u001b[0m\n",
      "\u001b[1;32mpandas\\_libs\\hashtable_class_helper.pxi\u001b[0m in \u001b[0;36mpandas._libs.hashtable.PyObjectHashTable.get_item\u001b[1;34m()\u001b[0m\n",
      "\u001b[1;32mpandas\\_libs\\hashtable_class_helper.pxi\u001b[0m in \u001b[0;36mpandas._libs.hashtable.PyObjectHashTable.get_item\u001b[1;34m()\u001b[0m\n",
      "\u001b[1;31mKeyError\u001b[0m: 'AEE'"
     ]
    }
   ],
   "source": [
    "for test_year in range(1993,2020):\n",
    "    \n",
    "    print('-'*40)\n",
    "    print(test_year)\n",
    "    print('-'*40)\n",
    "    \n",
    "    filename = 'data/Open-'+str(test_year-3)+'.csv'\n",
    "    df_open = pd.read_csv(filename)\n",
    "    filename = 'data/Close-'+str(test_year-3)+'.csv'\n",
    "    df_close = pd.read_csv(filename)\n",
    "    label = create_label(df_open,df_close)\n",
    "    stock_names = sorted(list(constituents[str(test_year-1)+'-12']))\n",
    "    train_data,test_data = [],[]\n",
    "\n",
    "    start = time.time()\n",
    "    for st in stock_names:\n",
    "        st = \"AEE\"\n",
    "        st_train_data,st_test_data = create_stock_data(df_open,df_close,st)\n",
    "        train_data.append(st_train_data)\n",
    "        test_data.append(st_test_data)\n",
    "    print(train_data)\n",
    "    print(test_data)\n",
    "    break\n",
    "    train_data = np.concatenate([x for x in train_data])\n",
    "    test_data = np.concatenate([x for x in test_data])\n",
    "    break"
   ]
  },
  {
   "cell_type": "code",
   "execution_count": 1,
   "metadata": {},
   "outputs": [],
   "source": [
    "import pandas as pd \n",
    "import numpy as np\n",
    "import os"
   ]
  },
  {
   "cell_type": "code",
   "execution_count": 4,
   "metadata": {},
   "outputs": [
    {
     "output_type": "stream",
     "name": "stdout",
     "text": [
      "Open-1990.csv Close-1990.csv Finished!\n",
      "Open-1991.csv Close-1991.csv Finished!\n",
      "Open-1992.csv Close-1992.csv Finished!\n",
      "Open-1993.csv Close-1993.csv Finished!\n",
      "Open-1994.csv Close-1994.csv Finished!\n",
      "Open-1995.csv Close-1995.csv Finished!\n",
      "Open-1996.csv Close-1996.csv Finished!\n",
      "Open-1997.csv Close-1997.csv Finished!\n",
      "Open-1998.csv Close-1998.csv Finished!\n",
      "Open-1999.csv Close-1999.csv Finished!\n",
      "Open-2000.csv Close-2000.csv Finished!\n",
      "Open-2001.csv Close-2001.csv Finished!\n",
      "Open-2002.csv Close-2002.csv Finished!\n",
      "Open-2003.csv Close-2003.csv Finished!\n",
      "Open-2004.csv Close-2004.csv Finished!\n",
      "Open-2005.csv Close-2005.csv Finished!\n",
      "Open-2006.csv Close-2006.csv Finished!\n",
      "Open-2007.csv Close-2007.csv Finished!\n",
      "Open-2008.csv Close-2008.csv Finished!\n",
      "Open-2009.csv Close-2009.csv Finished!\n",
      "Open-2010.csv Close-2010.csv Finished!\n",
      "Open-2011.csv Close-2011.csv Finished!\n",
      "Open-2012.csv Close-2012.csv Finished!\n",
      "Open-2013.csv Close-2013.csv Finished!\n",
      "Open-2014.csv Close-2014.csv Finished!\n",
      "Open-2015.csv Close-2015.csv Finished!\n",
      "Finished!\n"
     ]
    }
   ],
   "source": [
    "path = \"./data\"\n",
    "open_file = []\n",
    "close_flie = []\n",
    "for file_item in files:\n",
    "    if file_item[0:4] == \"Open\":\n",
    "        open_file.append(file_item)\n",
    "    elif file_item[0:5] == \"Close\":\n",
    "        close_flie.append(file_item)\n",
    "sorted(open_file)\n",
    "sorted(close_flie)\n",
    "for i in range(len(open_file) - 3):\n",
    "    # Open \n",
    "    df = pd.read_csv(\"{}/{}\".format(path,open_file[i]),index_col=\"Date\")\n",
    "    df1 = pd.read_csv(\"{}/{}\".format(path,open_file[i + 1]),index_col=\"Date\")\n",
    "    df2 = pd.read_csv(\"{}/{}\".format(path,open_file[i + 2]),index_col=\"Date\")\n",
    "    df3 = pd.read_csv(\"{}/{}\".format(path,open_file[i + 3]),index_col=\"Date\")\n",
    "    df = pd.concat([df, df1, df2, df3])\n",
    "    df.sort_index(inplace=True)\n",
    "    df.index.name = \"Date\"\n",
    "    df.to_csv(\"{}/{}\".format(path,open_file[i]))\n",
    "    # Close\n",
    "    df = pd.read_csv(\"{}/{}\".format(path,close_flie[i]),index_col=\"Date\")\n",
    "    df1 = pd.read_csv(\"{}/{}\".format(path,close_flie[i + 1]),index_col=\"Date\")\n",
    "    df2 = pd.read_csv(\"{}/{}\".format(path,close_flie[i + 2]),index_col=\"Date\")\n",
    "    df3 = pd.read_csv(\"{}/{}\".format(path,close_flie[i + 3]),index_col=\"Date\")\n",
    "    df = pd.concat([df, df1, df2, df3])\n",
    "    df.sort_index(inplace=True)\n",
    "    df.index.name = \"Date\"\n",
    "    df.to_csv(\"{}/{}\".format(path,close_flie[i]))\n",
    "    print(\"{} {} Finished!\".format(open_file[i], close_flie[i]))\n",
    "    \n",
    "print(\"Finished!\")"
   ]
  },
  {
   "cell_type": "code",
   "execution_count": 38,
   "metadata": {},
   "outputs": [
    {
     "output_type": "execute_result",
     "data": {
      "text/plain": [
       "False"
      ]
     },
     "metadata": {},
     "execution_count": 38
    }
   ],
   "source": [
    "a = \"SPXconst.csv\"\n",
    "b = (a[0:4] == \"Open\" or a[0:5] == \"Close\")\n",
    "b"
   ]
  },
  {
   "cell_type": "code",
   "execution_count": null,
   "metadata": {},
   "outputs": [],
   "source": []
  }
 ]
}