{
 "metadata": {
  "language_info": {
   "codemirror_mode": {
    "name": "ipython",
    "version": 3
   },
   "file_extension": ".py",
   "mimetype": "text/x-python",
   "name": "python",
   "nbconvert_exporter": "python",
   "pygments_lexer": "ipython3",
   "version": "3.7.6-final"
  },
  "orig_nbformat": 2,
  "kernelspec": {
   "name": "Python 3.7.6 64-bit (virtualenv)",
   "display_name": "Python 3.7.6 64-bit (virtualenv)",
   "metadata": {
    "interpreter": {
     "hash": "a8f61be024eba58adef938c9aa1e29e02cb3dece83a5348b1a2dafd16a070453"
    }
   }
  }
 },
 "nbformat": 4,
 "nbformat_minor": 2,
 "cells": [
  {
   "cell_type": "code",
   "execution_count": 1,
   "metadata": {},
   "outputs": [],
   "source": [
    "import pandas as pd\n",
    "import numpy as np\n",
    "import random\n",
    "import time\n",
    "import pickle\n",
    "from sklearn.ensemble import RandomForestClassifier\n",
    "from Statistics import Statistics"
   ]
  },
  {
   "cell_type": "code",
   "execution_count": 3,
   "metadata": {},
   "outputs": [],
   "source": [
    "import os\n",
    "SEED = 9\n",
    "os.environ['PYTHONHASHSEED']=str(SEED)\n",
    "random.seed(SEED)\n",
    "np.random.seed(SEED)"
   ]
  },
  {
   "cell_type": "code",
   "execution_count": 4,
   "metadata": {},
   "outputs": [],
   "source": [
    "SP500_df = pd.read_csv('data/SPXconst.csv')\n",
    "all_companies = list(set(SP500_df.values.flatten()))\n",
    "all_companies.remove(np.nan)"
   ]
  },
  {
   "cell_type": "code",
   "execution_count": 5,
   "metadata": {},
   "outputs": [],
   "source": [
    "constituents = {'-'.join(col.split('/')[::-1]):set(SP500_df[col].dropna()) \n",
    "                for col in SP500_df.columns}\n",
    "                "
   ]
  },
  {
   "cell_type": "code",
   "execution_count": 7,
   "metadata": {},
   "outputs": [
    {
     "output_type": "stream",
     "name": "stdout",
     "text": [
      "168\n172\n172\n"
     ]
    }
   ],
   "source": [
    "constituents_train = {} \n",
    "for test_year in range(1993,2016):\n",
    "    months = [str(t)+'-0'+str(m) if m<10 else str(t)+'-'+str(m) \n",
    "              for t in range(test_year-3,test_year) for m in range(1,13)]\n",
    "    constituents_train[test_year] = [list(constituents[m]) for m in months]\n",
    "    # print(len(constituents_train[test_year][0]))\n",
    "    # print(len(constituents_train[test_year][-1]))\n",
    "    constituents_train[test_year] = set([i for sublist in constituents_train[test_year] \n",
    "                                         for i in sublist])\n",
    "    print(len(constituents_train[test_year]))\n",
    "    # break"
   ]
  },
  {
   "cell_type": "code",
   "execution_count": 31,
   "metadata": {},
   "outputs": [],
   "source": [
    "def trainer(train_data,test_data):\n",
    "    random.seed(SEED)\n",
    "    np.random.seed(SEED)\n",
    "    \n",
    "    train_x,train_y = train_data[:,2:-2],train_data[:,-1]\n",
    "    train_y = train_y.astype('int')\n",
    "\n",
    "    print('Started training')\n",
    "    clf = RandomForestClassifier(n_estimators=1000, \n",
    "        max_depth=10, \n",
    "        random_state = SEED, \n",
    "        n_jobs=-1)\n",
    "    clf.fit(train_x,train_y)\n",
    "    print('Completed ',clf.score(train_x,train_y))\n",
    "\n",
    "    dates = list(set(test_data[:,0]))\n",
    "    predictions = {}\n",
    "    for day in dates:\n",
    "        test_d = test_data[test_data[:,0]==day]\n",
    "        test_d = test_d[:,2:-2] \n",
    "        predictions[day] = clf.predict_proba(test_d)[:,1]\n",
    "    return predictions"
   ]
  },
  {
   "cell_type": "code",
   "execution_count": 32,
   "metadata": {},
   "outputs": [],
   "source": [
    "def simulate(test_data,predictions):\n",
    "    rets = pd.DataFrame([],columns=['Long','Short'])\n",
    "    k = 10\n",
    "    for day in sorted(predictions.keys()):\n",
    "        preds = predictions[day]\n",
    "        test_returns = test_data[test_data[:,0]==day][:,-2]\n",
    "        top_preds = predictions[day].argsort()[-k:][::-1] \n",
    "        trans_long = test_returns[top_preds]\n",
    "        worst_preds = predictions[day].argsort()[:k][::-1] \n",
    "        trans_short = -test_returns[worst_preds]\n",
    "        rets.loc[day] = [np.mean(trans_long),np.mean(trans_short)] \n",
    "    return rets   \n",
    "    \n",
    "def create_label(df_open,df_close,perc=[0.5,0.5]):\n",
    "    if not np.all(df_close.iloc[:,0]==df_open.iloc[:,0]):\n",
    "        print('Date Index issue')\n",
    "        return\n",
    "    perc = [0.]+list(np.cumsum(perc))\n",
    "    label = (df_close.iloc[:,1:]/df_open.iloc[:,1:]-1).apply(\n",
    "            lambda x: pd.qcut(x.rank(method='first'),perc,labels=False), axis=1)\n",
    "    return label\n",
    "\n",
    "def create_stock_data(df_close,df_open,st):\n",
    "    st_data = pd.DataFrame([])\n",
    "    st_data['Date'] = list(df_close['Date'])\n",
    "    st_data['Name'] = [st]*len(st_data)\n",
    "    \n",
    "    daily_change = df_close[st]/df_open[st]-1\n",
    "    m = list(range(1,20))+list(range(20,241,20))\n",
    "    for k in m:\n",
    "        st_data['IntraR'+str(k)] = daily_change.shift(k)\n",
    "    for k in m:\n",
    "        st_data['CloseR'+str(k)] = df_close[st].pct_change(k).shift(1)\n",
    "    for k in m:\n",
    "        st_data['OverNR'+str(k)] = df_open[st]/df_close[st].shift(k)-1\n",
    "        \n",
    "    st_data['R-future'] = daily_change \n",
    "    st_data['label'] = list(label[st]) \n",
    "    st_data['Month'] = list(df_close['Date'].str[:-3])\n",
    "    st_data = st_data.dropna()\n",
    "    \n",
    "    trade_year = st_data['Month'].str[:4]\n",
    "    st_data = st_data.drop(columns=['Month'])\n",
    "    st_train_data = st_data[trade_year<str(test_year)]\n",
    "    st_test_data = st_data[trade_year==str(test_year)]\n",
    "    return np.array(st_train_data),np.array(st_test_data) "
   ]
  },
  {
   "cell_type": "code",
   "execution_count": 33,
   "metadata": {},
   "outputs": [],
   "source": [
    "result_folder = 'results2'\n",
    "for directory in [result_folder]:\n",
    "    if not os.path.exists(directory):\n",
    "        os.makedirs(directory)"
   ]
  },
  {
   "cell_type": "code",
   "execution_count": null,
   "metadata": {},
   "outputs": [],
   "source": [
    "for test_year in range(1993,2020):\n",
    "    \n",
    "    print('-'*40)\n",
    "    print(test_year)\n",
    "    print('-'*40)\n",
    "    \n",
    "    filename = 'data/Open-'+str(test_year-3)+'.csv'\n",
    "    df_open = pd.read_csv(filename)\n",
    "    filename = 'data/Close-'+str(test_year-3)+'.csv'\n",
    "    df_close = pd.read_csv(filename)\n",
    "    \n",
    "    label = create_label(df_open,df_close)\n",
    "    stock_names = sorted(list(constituents[str(test_year-1)+'-12']))\n",
    "    train_data,test_data = [],[]\n",
    "    \n",
    "    start = time.time()\n",
    "    for st in stock_names:\n",
    "        st_train_data,st_test_data = create_stock_data(df_close,df_open,st)\n",
    "        train_data.append(st_train_data)\n",
    "        test_data.append(st_test_data)\n",
    "\n",
    "    train_data = np.concatenate([x for x in train_data])\n",
    "    test_data = np.concatenate([x for x in test_data])\n",
    "    \n",
    "    print('Created :',train_data.shape,test_data.shape,time.time()-start)\n",
    "    \n",
    "    predictions = trainer(train_data,test_data)\n",
    "    returns = simulate(test_data,predictions)\n",
    "    result = Statistics(returns.sum(axis=1))\n",
    "    print('\\nAverage returns prior to transaction charges')\n",
    "    result.shortreport() \n",
    "    \n",
    "    with open(result_folder+'/predictions-'+str(test_year)+'.pickle', 'wb') as handle:\n",
    "        pickle.dump(predictions, handle, protocol=pickle.HIGHEST_PROTOCOL)\n",
    "    \n",
    "    returns.to_csv(result_folder+'/avg_daily_rets-'+str(test_year)+'.csv')\n",
    "    with open(result_folder+\"/avg_returns.txt\", \"a\") as myfile:\n",
    "        res = '-'*30 + '\\n' \n",
    "        res += str(test_year) + '\\n'\n",
    "        res += 'Mean = ' + str(result.mean()) + '\\n'\n",
    "        res += 'Sharpe = '+str(result.sharpe()) + '\\n'\n",
    "        res += '-'*30 + '\\n'\n",
    "        myfile.write(res)"
   ]
  }
 ]
}