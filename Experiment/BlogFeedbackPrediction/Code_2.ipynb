{
 "cells": [
  {
   "cell_type": "markdown",
   "metadata": {},
   "source": [
    "### Feature selection using Filter and wrapper meathod based on correlation between the features and choosing top 1% for training and testing"
   ]
  },
  {
   "cell_type": "code",
   "execution_count": 1,
   "metadata": {},
   "outputs": [],
   "source": [
    "import pandas as pd\n",
    "import numpy as np\n",
    "from sklearn.linear_model import LinearRegression\n",
    "from sklearn.ensemble import RandomForestRegressor\n",
    "from sklearn.ensemble import GradientBoostingRegressor\n",
    "from sklearn.ensemble import AdaBoostRegressor\n",
    "from sklearn.tree import DecisionTreeRegressor\n",
    "from sklearn import metrics\n",
    "from sklearn.metrics import classification_report\n",
    "from sklearn.model_selection import train_test_split\n",
    "from sklearn import preprocessing\n",
    "from sklearn.ensemble import BaggingRegressor\n",
    "import math, os, random"
   ]
  },
  {
   "cell_type": "code",
   "execution_count": 2,
   "metadata": {
    "tags": []
   },
   "outputs": [],
   "source": [
    "#Load the train and test data\n",
    "files = os.listdir(\"Data\")\n",
    "filename = files[-1]\n",
    "train_data = pd.read_csv(\"./Data/{}\".format(filename),header=None)\n",
    "file_list = files[:-1] # test data list"
   ]
  },
  {
   "cell_type": "code",
   "execution_count": 3,
   "metadata": {},
   "outputs": [],
   "source": [
    "#Using Pearson Correlation\n",
    "cor = train_data.corr()\n",
    "#Correlation with output variable\n",
    "cor_target = abs(cor[280])"
   ]
  },
  {
   "cell_type": "code",
   "execution_count": 4,
   "metadata": {
    "tags": []
   },
   "outputs": [
    {
     "output_type": "stream",
     "name": "stdout",
     "text": "Int64Index([  9,  20,   5,   4,  10,  14,  19,   0,  51,  15,\n            ...\n            230, 181,  90, 141, 216, 237,  12,  32,  37, 277],\n           dtype='int64', length=280)\n"
    }
   ],
   "source": [
    "#Selecting highly correlated features\n",
    "relevant_features = cor_target.sort_values(ascending=False)\n",
    "n_features = 0.1*len(relevant_features)\n",
    "features = relevant_features.index\n",
    "features = features[1:]\n",
    "print(features)"
   ]
  },
  {
   "cell_type": "code",
   "execution_count": 5,
   "metadata": {},
   "outputs": [],
   "source": [
    "#Remove features that are highly correlated with each other\n",
    "selected = []\n",
    "for i in features:\n",
    "    temp = i\n",
    "    for j in range(len(features)):\n",
    "        temp = temp+1\n",
    "        if temp > 279:\n",
    "            continue\n",
    "        next = features[temp]\n",
    "        if cor.iloc[i,next]>0.3:\n",
    "            continue\n",
    "    selected.append(i)\n",
    "selected = selected[:28]"
   ]
  },
  {
   "cell_type": "code",
   "execution_count": 6,
   "metadata": {},
   "outputs": [],
   "source": [
    "#Load the output for the train data\n",
    "train_output = train_data[len(train_data.columns)-1]\n",
    "del train_data[len(train_data.columns)-1]\n",
    "#Select only the selected features in train data\n",
    "train_data = train_data.iloc[:, selected]\n",
    "train_data = pd.DataFrame(data=train_data)"
   ]
  },
  {
   "cell_type": "code",
   "execution_count": 7,
   "metadata": {},
   "outputs": [],
   "source": [
    "# Initialize the models\n",
    "reg = LinearRegression()\n",
    "rf = RandomForestRegressor()\n",
    "# gradBoost = GradientBoostingRegressor()\n",
    "# ada = AdaBoostRegressor()\n",
    "#n_estimators=300 add to the regressors to observe the change\n",
    "regressors = [reg,rf]\n",
    "# regressor_names = [\"Linear Regression\",\"Random Forests\",\"Gradient Boosting\",\"Adaboost\"]\n",
    "regressor_names = [\"Linear Regression\",\"Random Forests\"]"
   ]
  },
  {
   "cell_type": "code",
   "execution_count": 8,
   "metadata": {},
   "outputs": [],
   "source": [
    "# Bagging of Linear Regression\n",
    "regEnsemble = BaggingRegressor(base_estimator=reg, n_estimators=100, max_samples=1.0, random_state=random.randint(0,100))\n",
    "regressors.append(regEnsemble)\n",
    "regressor_names.append(\"Linear Regression Ensemble\")"
   ]
  },
  {
   "cell_type": "code",
   "execution_count": 9,
   "metadata": {
    "tags": []
   },
   "outputs": [
    {
     "output_type": "stream",
     "name": "stdout",
     "text": "Mean Squared Error for  Linear Regression Ensemble  :  642.170459682454\nR2 score for  Linear Regression Ensemble  :  -0.008607493060561461\nHIT@10 for  Linear Regression Ensemble  :  5.033333333333333\n\n\n"
    }
   ],
   "source": [
    "for regressor,regressor_name in zip(regressors,regressor_names):\n",
    "    if regressor_name != \"Linear Regression Ensemble\":\n",
    "        continue\n",
    "    res = []\n",
    "    col_names = [\"fileName\", \"Mean Squared Error\", \"R2 score\", \"HIT@10\"]\n",
    "    regressor.fit(train_data,train_output)\n",
    "    for filename in file_list:\n",
    "        # Load the test data\n",
    "        test_data = pd.read_csv(\"./Data/{}\".format(filename),header=None)\n",
    "        test_output = test_data[len(test_data.columns)-1]\n",
    "        test_data = test_data.iloc[:, selected]\n",
    "        rank_test = [index for index,value in sorted(list(enumerate(test_output)),key=lambda x:x[1], reverse=True)]\n",
    "        \n",
    "        predicted_values = regressor.predict(test_data)\n",
    "        rank_predict = [index for index,value in sorted(list(enumerate(predicted_values)),key=lambda x:x[1], reverse=True)]\n",
    "        counter = len([x for x in rank_predict[:10] if x in rank_test[:10]])\n",
    "\n",
    "        result = [filename, metrics.mean_squared_error(test_output,predicted_values), metrics.r2_score(test_output,predicted_values), counter]\n",
    "        res.append(result)\n",
    "    df = pd.DataFrame(data=res, columns=col_names)\n",
    "    col_mean = df[[\"Mean Squared Error\", \"R2 score\", \"HIT@10\"]].mean()\n",
    "    col_mean[\"fileName\"] = \"Average\"\n",
    "    df = df.append(col_mean, ignore_index=True)\n",
    "    df.to_csv(\"./{}_2.csv\".format(regressor_name), index=False)\n",
    "    print (\"Mean Squared Error for \",regressor_name, \" : \", col_mean[\"Mean Squared Error\"])\n",
    "    print (\"R2 score for \",regressor_name, \" : \", col_mean[\"R2 score\"])\n",
    "    print (\"HIT@10 for \",regressor_name, \" : \", col_mean[\"HIT@10\"])\n",
    "    print(\"\\n\")"
   ]
  },
  {
   "cell_type": "code",
   "execution_count": 10,
   "metadata": {},
   "outputs": [],
   "source": [
    "\n",
    "\n"
   ]
  },
  {
   "cell_type": "code",
   "execution_count": null,
   "metadata": {},
   "outputs": [],
   "source": []
  }
 ],
 "metadata": {
  "kernelspec": {
   "display_name": "Python 3",
   "language": "python",
   "name": "python3"
  },
  "language_info": {
   "codemirror_mode": {
    "name": "ipython",
    "version": 3
   },
   "file_extension": ".py",
   "mimetype": "text/x-python",
   "name": "python",
   "nbconvert_exporter": "python",
   "pygments_lexer": "ipython3",
   "version": "3.7.6"
  }
 },
 "nbformat": 4,
 "nbformat_minor": 2
}