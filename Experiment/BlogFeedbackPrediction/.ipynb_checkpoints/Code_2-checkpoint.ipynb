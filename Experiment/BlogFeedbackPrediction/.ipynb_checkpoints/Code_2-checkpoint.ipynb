{
 "cells": [
  {
   "cell_type": "markdown",
   "metadata": {},
   "source": [
    "### Feature selection using Filter and wrapper meathod based on correlation between the features and choosing top 1% for training and testing"
   ]
  },
  {
   "cell_type": "code",
   "execution_count": 1,
   "metadata": {},
   "outputs": [],
   "source": [
    "import pandas as pd\n",
    "import numpy as np\n",
    "from sklearn.linear_model import LinearRegression\n",
    "from sklearn.ensemble import RandomForestRegressor\n",
    "from sklearn.ensemble import GradientBoostingRegressor\n",
    "from sklearn.ensemble import AdaBoostRegressor\n",
    "from sklearn.tree import DecisionTreeRegressor\n",
    "from sklearn import metrics\n",
    "from sklearn.metrics import classification_report\n",
    "from sklearn.model_selection import train_test_split\n",
    "from sklearn import preprocessing\n",
    "from sklearn.feature_selection import RFECV\n",
    "import math"
   ]
  },
  {
   "cell_type": "code",
   "execution_count": 2,
   "metadata": {},
   "outputs": [],
   "source": [
    "#Load the train data\n",
    "filename = \"blogData_train.csv\"\n",
    "train_data = pd.read_csv(filename,header=None)"
   ]
  },
  {
   "cell_type": "code",
   "execution_count": 3,
   "metadata": {},
   "outputs": [],
   "source": [
    "#Using Pearson Correlation\n",
    "cor = train_data.corr()\n",
    "#Correlation with output variable\n",
    "cor_target = abs(cor[280])"
   ]
  },
  {
   "cell_type": "code",
   "execution_count": 4,
   "metadata": {},
   "outputs": [
    {
     "name": "stdout",
     "output_type": "stream",
     "text": [
      "Int64Index([  9,  20,   5,   4,  10,  14,  19,   0,  51,  15,\n",
      "            ...\n",
      "            230, 181,  90, 141, 216, 237,  12,  32,  37, 277],\n",
      "           dtype='int64', length=280)\n"
     ]
    }
   ],
   "source": [
    "#Selecting highly correlated features\n",
    "relevant_features = cor_target.sort_values(ascending=False)\n",
    "n_features = 0.1*len(relevant_features)\n",
    "features = relevant_features.index\n",
    "features = features[1:]\n",
    "print(features)"
   ]
  },
  {
   "cell_type": "code",
   "execution_count": 5,
   "metadata": {},
   "outputs": [],
   "source": [
    "#Remove features that are highly correlated with each other\n",
    "selected = []\n",
    "for i in features:\n",
    "    temp = i\n",
    "    for j in range(len(features)):\n",
    "        temp = temp+1\n",
    "        if temp > 279:\n",
    "            continue\n",
    "        next = features[temp]\n",
    "        if cor.iloc[i,next]>0.3:\n",
    "            continue\n",
    "    selected.append(i)\n",
    "selected = selected[:28]"
   ]
  },
  {
   "cell_type": "code",
   "execution_count": 6,
   "metadata": {},
   "outputs": [],
   "source": [
    "#Load the output for the train data\n",
    "train_output = train_data[len(train_data.columns)-1]\n",
    "del train_data[len(train_data.columns)-1]\n",
    "#Select only the selected features in train data\n",
    "train_data = train_data.iloc[:, selected]\n",
    "train_data = pd.DataFrame(data=train_data)"
   ]
  },
  {
   "cell_type": "code",
   "execution_count": 7,
   "metadata": {},
   "outputs": [],
   "source": [
    "# Load the test data\n",
    "filename = \"blogData_test-2012.02.01.00_00.csv\"\n",
    "test_data = pd.read_csv(filename,header=None)\n",
    "test_output = test_data[len(test_data.columns)-1]\n",
    "test_data = test_data.iloc[:, selected]"
   ]
  },
  {
   "cell_type": "code",
   "execution_count": 8,
   "metadata": {},
   "outputs": [],
   "source": [
    "# Initialize the models\n",
    "reg = LinearRegression()\n",
    "rf = RandomForestRegressor()\n",
    "gradBoost = GradientBoostingRegressor()\n",
    "ada = AdaBoostRegressor()\n",
    "#n_estimators=300 add to the regressors to observe the change\n",
    "regressors = [reg,rf,gradBoost,ada]\n",
    "regressor_names = [\"Linear Regression\",\"Random Forests\",\"Gradient Boosting\",\"Adaboost\"]"
   ]
  },
  {
   "cell_type": "code",
   "execution_count": 9,
   "metadata": {},
   "outputs": [
    {
     "name": "stdout",
     "output_type": "stream",
     "text": [
      "Mean Squared Error for  Linear Regression  :  478.7749825030172\n",
      "R2 score for  Linear Regression  :  0.7003635623528848\n",
      "HIT@10 for  Linear Regression  :  0\n",
      "\n",
      "\n",
      "Mean Squared Error for  Random Forests  :  327.3757579329755\n",
      "R2 score for  Random Forests  :  0.7951152222569546\n",
      "HIT@10 for  Random Forests  :  0\n",
      "\n",
      "\n",
      "Mean Squared Error for  Gradient Boosting  :  529.5309609112388\n",
      "R2 score for  Gradient Boosting  :  0.6685984511517422\n",
      "HIT@10 for  Gradient Boosting  :  0\n",
      "\n",
      "\n",
      "Mean Squared Error for  Adaboost  :  437.0213522776495\n",
      "R2 score for  Adaboost  :  0.7264946457987189\n",
      "HIT@10 for  Adaboost  :  0\n",
      "\n",
      "\n"
     ]
    }
   ],
   "source": [
    "for regressor,regressor_name in zip(regressors,regressor_names):\n",
    "    \n",
    "    regressor.fit(train_data,train_output)\n",
    "    predicted_values = regressor.predict(test_data)\n",
    "    predicted = np.clip(predicted_values, 0,5000)\n",
    "\n",
    "    counter = 0\n",
    "    predicted = pd.DataFrame(data = predicted_values, index = None, columns         = None)\n",
    "    top = pd.concat([test_output,predicted], axis=1, sort=False,                    ignore_index=True)\n",
    "    top = top.sort_values(0, ascending=False)\n",
    "    for i in range(10):\n",
    "        if math.ceil(top.iloc[i,0])== math.ceil(top.iloc[i,1]):\n",
    "            counter = counter+1\n",
    "\n",
    "    print (\"Mean Squared Error for \",regressor_name, \" : \", metrics.mean_squared_error(test_output,predicted_values))\n",
    "    print (\"R2 score for \",regressor_name, \" : \",metrics.r2_score(test_output,predicted_values))\n",
    "    print (\"HIT@10 for \",regressor_name, \" : \",counter)\n",
    "    print(\"\\n\")\n"
   ]
  },
  {
   "cell_type": "code",
   "execution_count": null,
   "metadata": {},
   "outputs": [],
   "source": [
    "# Select the features from output of the filter method by applying the recursive feature elimination for wrapper method\n",
    "estimator = rf\n",
    "selector = RFECV(estimator, step=1, cv=5)\n",
    "selector = selector.fit(train_data, train_output)"
   ]
  },
  {
   "cell_type": "code",
   "execution_count": null,
   "metadata": {},
   "outputs": [],
   "source": [
    "print(len(selector.ranking_))\n",
    "ranking = selector.ranking_"
   ]
  },
  {
   "cell_type": "code",
   "execution_count": null,
   "metadata": {},
   "outputs": [],
   "source": [
    "# Select features based on the ranking provided by the RFE function such that the rank is 1\n",
    "selected1 = []\n",
    "for i in range(len(selected)):\n",
    "    if ranking[i] ==1:\n",
    "        selected1.append(selected[i])\n",
    "print(selected1)"
   ]
  },
  {
   "cell_type": "code",
   "execution_count": null,
   "metadata": {},
   "outputs": [],
   "source": [
    "#Load train and test data again (They were modified earlier in the filter method)\n",
    "filename = \"blogData_train.csv\"\n",
    "train_data = pd.read_csv(filename,header=None)\n",
    "train_output = train_data[len(train_data.columns)-1]\n",
    "del train_data[len(train_data.columns)-1]\n",
    "\n",
    "train_data = train_data.iloc[:, selected1]"
   ]
  },
  {
   "cell_type": "code",
   "execution_count": null,
   "metadata": {},
   "outputs": [],
   "source": [
    "filename = \"blogData_test-2012.02.01.00_00.csv\"\n",
    "test_data = pd.read_csv(filename,header=None)\n",
    "test_output = test_data[len(test_data.columns)-1]\n",
    "\n",
    "test_data = test_data.iloc[:, selected1]"
   ]
  },
  {
   "cell_type": "code",
   "execution_count": null,
   "metadata": {},
   "outputs": [],
   "source": [
    "for regressor,regressor_name in zip(regressors,regressor_names):\n",
    "    \n",
    "    regressor.fit(train_data,train_output)\n",
    "    predicted_values = regressor.predict(test_data)\n",
    "    predicted = np.clip(predicted_values, 0,5000)\n",
    "\n",
    "    counter = 0\n",
    "    predicted = pd.DataFrame(data = predicted_values, index = None, columns         = None)\n",
    "    top = pd.concat([test_output,predicted], axis=1, sort=False,                    ignore_index=True)\n",
    "    top = top.sort_values(0, ascending=False)\n",
    "    for i in range(10):\n",
    "        if math.ceil(top.iloc[i,0])== math.ceil(top.iloc[i,1]):\n",
    "            counter = counter+1\n",
    "\n",
    "    print (\"Mean Squared Error for \",regressor_name, \" : \", metrics.mean_squared_error(test_output,predicted_values))\n",
    "    print (\"R2 score for \",regressor_name, \" : \",metrics.r2_score(test_output,predicted_values))\n",
    "    print (\"AUC for\",regressor_name, \" : \",metrics.roc_auc_score(test_output,predicted_values, average = 'samples'))\n",
    "    print (\"HIT@10 for \",regressor_name, \" : \",counter)\n",
    "    print(\"\\n\")\n"
   ]
  }
 ],
 "metadata": {
  "kernelspec": {
   "display_name": "Python 3",
   "language": "python",
   "name": "python3"
  },
  "language_info": {
   "codemirror_mode": {
    "name": "ipython",
    "version": 3
   },
   "file_extension": ".py",
   "mimetype": "text/x-python",
   "name": "python",
   "nbconvert_exporter": "python",
   "pygments_lexer": "ipython3",
   "version": "3.7.6"
  }
 },
 "nbformat": 4,
 "nbformat_minor": 2
}
