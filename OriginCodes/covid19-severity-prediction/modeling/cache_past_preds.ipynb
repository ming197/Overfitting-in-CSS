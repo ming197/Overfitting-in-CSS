{
 "cells": [
  {
   "cell_type": "code",
   "execution_count": 1,
   "metadata": {},
   "outputs": [],
   "source": []
  },
  {
   "cell_type": "code",
   "execution_count": 13,
   "metadata": {},
   "outputs": [
    {
     "name": "stdout",
     "output_type": "stream",
     "text": [
      "all_deaths_preds_7.csv\n",
      "all_deaths_preds_3.csv\n",
      "all_deaths_preds_5.csv\n"
     ]
    }
   ],
   "source": [
    "import pandas as pd\n",
    "for s in os.listdir('.'):\n",
    "    if 'csv' in s:\n",
    "        print(s)\n",
    "        d = pd.read_csv(s)\n",
    "        ks = list(d1.keys())\n",
    "        d[[k for k in ks if k in ['countyFIPS', 'CountyName', 'StateName'] or 'ensemble' in k]].to_csv(s)"
   ]
  },
  {
   "cell_type": "code",
   "execution_count": null,
   "metadata": {},
   "outputs": [],
   "source": []
  }
 ],
 "metadata": {
  "kernelspec": {
   "display_name": "Python 3",
   "language": "python",
   "name": "python3"
  },
  "language_info": {
   "codemirror_mode": {
    "name": "ipython",
    "version": 3
   },
   "file_extension": ".py",
   "mimetype": "text/x-python",
   "name": "python",
   "nbconvert_exporter": "python",
   "pygments_lexer": "ipython3",
   "version": "3.7.5"
  }
 },
 "nbformat": 4,
 "nbformat_minor": 4
}
